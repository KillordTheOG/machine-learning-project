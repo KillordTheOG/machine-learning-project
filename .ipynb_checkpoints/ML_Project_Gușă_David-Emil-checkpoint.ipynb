{
 "cells": [
  {
   "cell_type": "markdown",
   "metadata": {},
   "source": [
    "<strong>Problem formulation:</strong>\n",
    "<p>**The aim of the project**: Let consider a simple image in which the color of some points was deleted (now the color of this points is white). We aim to restore the initial image using the points we still have colored in it. </p>\n",
    "<p>**Tehnical aim of the project**: Compare the performance of various classifiers in solving the given problem for both linearly separable and non-linearly separable images. Conduct model selection, involving the choice of model parameters, using different methods, and thoroughly discuss the results. Perform a sensitivity study to highlight the impact of the training/testing ratio and the input dataset. </p>  \n",
    "<p> **Detailed description of the requirements**: \n",
    "    <ol>\n",
    "    <li>Imagine a simple image in two or more colors of your choice. Then use the Paint application to make an image that contains only some of the points from the original image. Use Paint's pencil tool, not the brush or other tools, to get the image. The colored pixels in the rendered image will represent the data set. Based on these, you need to predict the colors of all the pixels in the image.</li>\n",
    "    <li>You have to use at least three classifiers: one in the categories a), one in the category b)  and one in the categoty c) given below. Optionally, you can use more classifiers.   \n",
    "        <p> Classifiers to be used:    \n",
    "            a) **Bayes classifiers** and **Decision tree classifiers**   \n",
    "            b) **ANN** and **SVM**,  \n",
    "            c) **Ensemble methods**  d) ** Other classifiers** (optional). </p> \n",
    "               </li>\n",
    "   <li> You should be able to explain all details related to the  chosen classifiers  </li>\n",
    "     <li>You should be able to explain all details related to tasks implementation   </li>\n",
    "      <li>You should provide interpretation and make comparisons of the results.</li>\n",
    "        </ol>\n",
    "</p>\n",
    "<strong>Example:</strong>\n",
    "<img src=\"data.png\" width=\"256\" height=\"256\"/>\n",
    "<center><strong>Figure 1</strong></center>\n",
    " <p>You can consider that the points from Figure 1 come from an initial (known) image like that given in Figure 2  </p>\n",
    "    <img src=\"InitialImage.png\" />\n",
    "    <center><strong>Figure 2</strong> </center>\n",
    "<p>For more examples of images and a better understanding of the problem formulation, please see:\n",
    "    <a href=\"http://playground.tensorflow.org\">http://playground.tensorflow.org</a> </p>\n",
    "and the Figure 3 (at the end of this notebook).\n",
    "<p> The tasks to be performed are presented below. They can be followed successively as shown, or you can design your own algorithm that encapsulates all or part of all steps (for example, you can design an algorithm that creates a list of images to be used, a list of classifiers to be used, so that a task can be performed directly and more easily using all classifiers and all images, Or you can create a OOP based algorithm to solve generical the problem for any classifier and any image). It is important that all of the tasks listed below are completed. You are welcome to undertake additional tasks of your choice to enhance the comparisons of the results.</p>\n",
    "\n",
    "<strong>Task to be completed:</strong>\n",
    "\n",
    "<strong>1.</strong> Generate 2 images using Paint, sIt is important that all of the tasks listed below are completed. You are welcome to undertake additional tasks of your choice to enhance the comparisons of the results.milar to Figure 1, containing sets of points of two or more colors - minimum 200 points (as explained in **Detailed description of the requirements**), such that in the first image the set of points should be linearly separable and in the second image, the set of points should be non-linearly separable. Save the images as \"data1.png\" and \"data2.png\".\n",
    "\n",
    "<strong>2.</strong> Create two datasets based on the 2 images from step 1, using the code give below. Analyze and comment this code."
   ]
  },
  {
   "cell_type": "code",
   "execution_count": 1,
   "metadata": {},
   "outputs": [],
   "source": [
    "from PIL import Image\n",
    "import numpy as np\n",
    "\n",
    "def rgb_to_int(r,g,b):\n",
    "    \n",
    "    return (r<<16) + (g<<8) + b\n",
    "\n",
    "def read_data(filename):\n",
    "    x = []\n",
    "    y = []\n",
    "    back_color = rgb_to_int(255,255,255)\n",
    "    \n",
    "    image = Image.open(filename)\n",
    "    width,height = image.size\n",
    "    pixels = image.load()\n",
    " \n",
    "    for i in range(width):\n",
    "        for j in range(height):\n",
    "            r,g,b = pixels[i,j]\n",
    "            color = rgb_to_int(r,g,b)\n",
    "            \n",
    "            if (color != back_color):\n",
    "                x.append([i,j])\n",
    "                y.append(color)\n",
    "    return x,y"
   ]
  },
  {
   "cell_type": "code",
   "execution_count": 2,
   "metadata": {},
   "outputs": [],
   "source": [
    "# Create the datasets here\n",
    "data1 = read_data('data1.png')\n",
    "data2 = read_data('data2.png')"
   ]
  },
  {
   "cell_type": "markdown",
   "metadata": {},
   "source": [
    "<strong>3.</strong> Split the first dataset into a training set and a test set  (using 70% for training and 30% for validation)"
   ]
  },
  {
   "cell_type": "code",
   "execution_count": 3,
   "metadata": {},
   "outputs": [],
   "source": [
    "import numpy as np\n",
    "from sklearn.model_selection import train_test_split\n",
    "\n",
    "# Assuming data1 contains two lists: x (coordinates) and y (color values)\n",
    "x_data1, y_data1 = data1\n",
    "\n",
    "# Convert lists to numpy arrays for easier manipulation\n",
    "x_data1 = np.array(x_data1)\n",
    "y_data1 = np.array(y_data1)\n",
    "\n",
    "# Split the data into 70% training and 30% testing\n",
    "x_train, x_test, y_train, y_test = train_test_split(x_data1, y_data1, test_size=0.3, random_state=42)\n",
    "\n",
    "# x_train and y_train are the training set\n",
    "# x_test and y_test are the test set"
   ]
  },
  {
   "cell_type": "markdown",
   "metadata": {},
   "source": [
    "<strong>4.</strong> Choose a classifier in category a) and train it on the training set generated in step 3."
   ]
  },
  {
   "cell_type": "code",
   "execution_count": 4,
   "metadata": {},
   "outputs": [
    {
     "data": {
      "text/html": [
       "<style>#sk-container-id-1 {\n",
       "  /* Definition of color scheme common for light and dark mode */\n",
       "  --sklearn-color-text: black;\n",
       "  --sklearn-color-line: gray;\n",
       "  /* Definition of color scheme for unfitted estimators */\n",
       "  --sklearn-color-unfitted-level-0: #fff5e6;\n",
       "  --sklearn-color-unfitted-level-1: #f6e4d2;\n",
       "  --sklearn-color-unfitted-level-2: #ffe0b3;\n",
       "  --sklearn-color-unfitted-level-3: chocolate;\n",
       "  /* Definition of color scheme for fitted estimators */\n",
       "  --sklearn-color-fitted-level-0: #f0f8ff;\n",
       "  --sklearn-color-fitted-level-1: #d4ebff;\n",
       "  --sklearn-color-fitted-level-2: #b3dbfd;\n",
       "  --sklearn-color-fitted-level-3: cornflowerblue;\n",
       "\n",
       "  /* Specific color for light theme */\n",
       "  --sklearn-color-text-on-default-background: var(--sg-text-color, var(--theme-code-foreground, var(--jp-content-font-color1, black)));\n",
       "  --sklearn-color-background: var(--sg-background-color, var(--theme-background, var(--jp-layout-color0, white)));\n",
       "  --sklearn-color-border-box: var(--sg-text-color, var(--theme-code-foreground, var(--jp-content-font-color1, black)));\n",
       "  --sklearn-color-icon: #696969;\n",
       "\n",
       "  @media (prefers-color-scheme: dark) {\n",
       "    /* Redefinition of color scheme for dark theme */\n",
       "    --sklearn-color-text-on-default-background: var(--sg-text-color, var(--theme-code-foreground, var(--jp-content-font-color1, white)));\n",
       "    --sklearn-color-background: var(--sg-background-color, var(--theme-background, var(--jp-layout-color0, #111)));\n",
       "    --sklearn-color-border-box: var(--sg-text-color, var(--theme-code-foreground, var(--jp-content-font-color1, white)));\n",
       "    --sklearn-color-icon: #878787;\n",
       "  }\n",
       "}\n",
       "\n",
       "#sk-container-id-1 {\n",
       "  color: var(--sklearn-color-text);\n",
       "}\n",
       "\n",
       "#sk-container-id-1 pre {\n",
       "  padding: 0;\n",
       "}\n",
       "\n",
       "#sk-container-id-1 input.sk-hidden--visually {\n",
       "  border: 0;\n",
       "  clip: rect(1px 1px 1px 1px);\n",
       "  clip: rect(1px, 1px, 1px, 1px);\n",
       "  height: 1px;\n",
       "  margin: -1px;\n",
       "  overflow: hidden;\n",
       "  padding: 0;\n",
       "  position: absolute;\n",
       "  width: 1px;\n",
       "}\n",
       "\n",
       "#sk-container-id-1 div.sk-dashed-wrapped {\n",
       "  border: 1px dashed var(--sklearn-color-line);\n",
       "  margin: 0 0.4em 0.5em 0.4em;\n",
       "  box-sizing: border-box;\n",
       "  padding-bottom: 0.4em;\n",
       "  background-color: var(--sklearn-color-background);\n",
       "}\n",
       "\n",
       "#sk-container-id-1 div.sk-container {\n",
       "  /* jupyter's `normalize.less` sets `[hidden] { display: none; }`\n",
       "     but bootstrap.min.css set `[hidden] { display: none !important; }`\n",
       "     so we also need the `!important` here to be able to override the\n",
       "     default hidden behavior on the sphinx rendered scikit-learn.org.\n",
       "     See: https://github.com/scikit-learn/scikit-learn/issues/21755 */\n",
       "  display: inline-block !important;\n",
       "  position: relative;\n",
       "}\n",
       "\n",
       "#sk-container-id-1 div.sk-text-repr-fallback {\n",
       "  display: none;\n",
       "}\n",
       "\n",
       "div.sk-parallel-item,\n",
       "div.sk-serial,\n",
       "div.sk-item {\n",
       "  /* draw centered vertical line to link estimators */\n",
       "  background-image: linear-gradient(var(--sklearn-color-text-on-default-background), var(--sklearn-color-text-on-default-background));\n",
       "  background-size: 2px 100%;\n",
       "  background-repeat: no-repeat;\n",
       "  background-position: center center;\n",
       "}\n",
       "\n",
       "/* Parallel-specific style estimator block */\n",
       "\n",
       "#sk-container-id-1 div.sk-parallel-item::after {\n",
       "  content: \"\";\n",
       "  width: 100%;\n",
       "  border-bottom: 2px solid var(--sklearn-color-text-on-default-background);\n",
       "  flex-grow: 1;\n",
       "}\n",
       "\n",
       "#sk-container-id-1 div.sk-parallel {\n",
       "  display: flex;\n",
       "  align-items: stretch;\n",
       "  justify-content: center;\n",
       "  background-color: var(--sklearn-color-background);\n",
       "  position: relative;\n",
       "}\n",
       "\n",
       "#sk-container-id-1 div.sk-parallel-item {\n",
       "  display: flex;\n",
       "  flex-direction: column;\n",
       "}\n",
       "\n",
       "#sk-container-id-1 div.sk-parallel-item:first-child::after {\n",
       "  align-self: flex-end;\n",
       "  width: 50%;\n",
       "}\n",
       "\n",
       "#sk-container-id-1 div.sk-parallel-item:last-child::after {\n",
       "  align-self: flex-start;\n",
       "  width: 50%;\n",
       "}\n",
       "\n",
       "#sk-container-id-1 div.sk-parallel-item:only-child::after {\n",
       "  width: 0;\n",
       "}\n",
       "\n",
       "/* Serial-specific style estimator block */\n",
       "\n",
       "#sk-container-id-1 div.sk-serial {\n",
       "  display: flex;\n",
       "  flex-direction: column;\n",
       "  align-items: center;\n",
       "  background-color: var(--sklearn-color-background);\n",
       "  padding-right: 1em;\n",
       "  padding-left: 1em;\n",
       "}\n",
       "\n",
       "\n",
       "/* Toggleable style: style used for estimator/Pipeline/ColumnTransformer box that is\n",
       "clickable and can be expanded/collapsed.\n",
       "- Pipeline and ColumnTransformer use this feature and define the default style\n",
       "- Estimators will overwrite some part of the style using the `sk-estimator` class\n",
       "*/\n",
       "\n",
       "/* Pipeline and ColumnTransformer style (default) */\n",
       "\n",
       "#sk-container-id-1 div.sk-toggleable {\n",
       "  /* Default theme specific background. It is overwritten whether we have a\n",
       "  specific estimator or a Pipeline/ColumnTransformer */\n",
       "  background-color: var(--sklearn-color-background);\n",
       "}\n",
       "\n",
       "/* Toggleable label */\n",
       "#sk-container-id-1 label.sk-toggleable__label {\n",
       "  cursor: pointer;\n",
       "  display: block;\n",
       "  width: 100%;\n",
       "  margin-bottom: 0;\n",
       "  padding: 0.5em;\n",
       "  box-sizing: border-box;\n",
       "  text-align: center;\n",
       "}\n",
       "\n",
       "#sk-container-id-1 label.sk-toggleable__label-arrow:before {\n",
       "  /* Arrow on the left of the label */\n",
       "  content: \"▸\";\n",
       "  float: left;\n",
       "  margin-right: 0.25em;\n",
       "  color: var(--sklearn-color-icon);\n",
       "}\n",
       "\n",
       "#sk-container-id-1 label.sk-toggleable__label-arrow:hover:before {\n",
       "  color: var(--sklearn-color-text);\n",
       "}\n",
       "\n",
       "/* Toggleable content - dropdown */\n",
       "\n",
       "#sk-container-id-1 div.sk-toggleable__content {\n",
       "  max-height: 0;\n",
       "  max-width: 0;\n",
       "  overflow: hidden;\n",
       "  text-align: left;\n",
       "  /* unfitted */\n",
       "  background-color: var(--sklearn-color-unfitted-level-0);\n",
       "}\n",
       "\n",
       "#sk-container-id-1 div.sk-toggleable__content.fitted {\n",
       "  /* fitted */\n",
       "  background-color: var(--sklearn-color-fitted-level-0);\n",
       "}\n",
       "\n",
       "#sk-container-id-1 div.sk-toggleable__content pre {\n",
       "  margin: 0.2em;\n",
       "  border-radius: 0.25em;\n",
       "  color: var(--sklearn-color-text);\n",
       "  /* unfitted */\n",
       "  background-color: var(--sklearn-color-unfitted-level-0);\n",
       "}\n",
       "\n",
       "#sk-container-id-1 div.sk-toggleable__content.fitted pre {\n",
       "  /* unfitted */\n",
       "  background-color: var(--sklearn-color-fitted-level-0);\n",
       "}\n",
       "\n",
       "#sk-container-id-1 input.sk-toggleable__control:checked~div.sk-toggleable__content {\n",
       "  /* Expand drop-down */\n",
       "  max-height: 200px;\n",
       "  max-width: 100%;\n",
       "  overflow: auto;\n",
       "}\n",
       "\n",
       "#sk-container-id-1 input.sk-toggleable__control:checked~label.sk-toggleable__label-arrow:before {\n",
       "  content: \"▾\";\n",
       "}\n",
       "\n",
       "/* Pipeline/ColumnTransformer-specific style */\n",
       "\n",
       "#sk-container-id-1 div.sk-label input.sk-toggleable__control:checked~label.sk-toggleable__label {\n",
       "  color: var(--sklearn-color-text);\n",
       "  background-color: var(--sklearn-color-unfitted-level-2);\n",
       "}\n",
       "\n",
       "#sk-container-id-1 div.sk-label.fitted input.sk-toggleable__control:checked~label.sk-toggleable__label {\n",
       "  background-color: var(--sklearn-color-fitted-level-2);\n",
       "}\n",
       "\n",
       "/* Estimator-specific style */\n",
       "\n",
       "/* Colorize estimator box */\n",
       "#sk-container-id-1 div.sk-estimator input.sk-toggleable__control:checked~label.sk-toggleable__label {\n",
       "  /* unfitted */\n",
       "  background-color: var(--sklearn-color-unfitted-level-2);\n",
       "}\n",
       "\n",
       "#sk-container-id-1 div.sk-estimator.fitted input.sk-toggleable__control:checked~label.sk-toggleable__label {\n",
       "  /* fitted */\n",
       "  background-color: var(--sklearn-color-fitted-level-2);\n",
       "}\n",
       "\n",
       "#sk-container-id-1 div.sk-label label.sk-toggleable__label,\n",
       "#sk-container-id-1 div.sk-label label {\n",
       "  /* The background is the default theme color */\n",
       "  color: var(--sklearn-color-text-on-default-background);\n",
       "}\n",
       "\n",
       "/* On hover, darken the color of the background */\n",
       "#sk-container-id-1 div.sk-label:hover label.sk-toggleable__label {\n",
       "  color: var(--sklearn-color-text);\n",
       "  background-color: var(--sklearn-color-unfitted-level-2);\n",
       "}\n",
       "\n",
       "/* Label box, darken color on hover, fitted */\n",
       "#sk-container-id-1 div.sk-label.fitted:hover label.sk-toggleable__label.fitted {\n",
       "  color: var(--sklearn-color-text);\n",
       "  background-color: var(--sklearn-color-fitted-level-2);\n",
       "}\n",
       "\n",
       "/* Estimator label */\n",
       "\n",
       "#sk-container-id-1 div.sk-label label {\n",
       "  font-family: monospace;\n",
       "  font-weight: bold;\n",
       "  display: inline-block;\n",
       "  line-height: 1.2em;\n",
       "}\n",
       "\n",
       "#sk-container-id-1 div.sk-label-container {\n",
       "  text-align: center;\n",
       "}\n",
       "\n",
       "/* Estimator-specific */\n",
       "#sk-container-id-1 div.sk-estimator {\n",
       "  font-family: monospace;\n",
       "  border: 1px dotted var(--sklearn-color-border-box);\n",
       "  border-radius: 0.25em;\n",
       "  box-sizing: border-box;\n",
       "  margin-bottom: 0.5em;\n",
       "  /* unfitted */\n",
       "  background-color: var(--sklearn-color-unfitted-level-0);\n",
       "}\n",
       "\n",
       "#sk-container-id-1 div.sk-estimator.fitted {\n",
       "  /* fitted */\n",
       "  background-color: var(--sklearn-color-fitted-level-0);\n",
       "}\n",
       "\n",
       "/* on hover */\n",
       "#sk-container-id-1 div.sk-estimator:hover {\n",
       "  /* unfitted */\n",
       "  background-color: var(--sklearn-color-unfitted-level-2);\n",
       "}\n",
       "\n",
       "#sk-container-id-1 div.sk-estimator.fitted:hover {\n",
       "  /* fitted */\n",
       "  background-color: var(--sklearn-color-fitted-level-2);\n",
       "}\n",
       "\n",
       "/* Specification for estimator info (e.g. \"i\" and \"?\") */\n",
       "\n",
       "/* Common style for \"i\" and \"?\" */\n",
       "\n",
       ".sk-estimator-doc-link,\n",
       "a:link.sk-estimator-doc-link,\n",
       "a:visited.sk-estimator-doc-link {\n",
       "  float: right;\n",
       "  font-size: smaller;\n",
       "  line-height: 1em;\n",
       "  font-family: monospace;\n",
       "  background-color: var(--sklearn-color-background);\n",
       "  border-radius: 1em;\n",
       "  height: 1em;\n",
       "  width: 1em;\n",
       "  text-decoration: none !important;\n",
       "  margin-left: 1ex;\n",
       "  /* unfitted */\n",
       "  border: var(--sklearn-color-unfitted-level-1) 1pt solid;\n",
       "  color: var(--sklearn-color-unfitted-level-1);\n",
       "}\n",
       "\n",
       ".sk-estimator-doc-link.fitted,\n",
       "a:link.sk-estimator-doc-link.fitted,\n",
       "a:visited.sk-estimator-doc-link.fitted {\n",
       "  /* fitted */\n",
       "  border: var(--sklearn-color-fitted-level-1) 1pt solid;\n",
       "  color: var(--sklearn-color-fitted-level-1);\n",
       "}\n",
       "\n",
       "/* On hover */\n",
       "div.sk-estimator:hover .sk-estimator-doc-link:hover,\n",
       ".sk-estimator-doc-link:hover,\n",
       "div.sk-label-container:hover .sk-estimator-doc-link:hover,\n",
       ".sk-estimator-doc-link:hover {\n",
       "  /* unfitted */\n",
       "  background-color: var(--sklearn-color-unfitted-level-3);\n",
       "  color: var(--sklearn-color-background);\n",
       "  text-decoration: none;\n",
       "}\n",
       "\n",
       "div.sk-estimator.fitted:hover .sk-estimator-doc-link.fitted:hover,\n",
       ".sk-estimator-doc-link.fitted:hover,\n",
       "div.sk-label-container:hover .sk-estimator-doc-link.fitted:hover,\n",
       ".sk-estimator-doc-link.fitted:hover {\n",
       "  /* fitted */\n",
       "  background-color: var(--sklearn-color-fitted-level-3);\n",
       "  color: var(--sklearn-color-background);\n",
       "  text-decoration: none;\n",
       "}\n",
       "\n",
       "/* Span, style for the box shown on hovering the info icon */\n",
       ".sk-estimator-doc-link span {\n",
       "  display: none;\n",
       "  z-index: 9999;\n",
       "  position: relative;\n",
       "  font-weight: normal;\n",
       "  right: .2ex;\n",
       "  padding: .5ex;\n",
       "  margin: .5ex;\n",
       "  width: min-content;\n",
       "  min-width: 20ex;\n",
       "  max-width: 50ex;\n",
       "  color: var(--sklearn-color-text);\n",
       "  box-shadow: 2pt 2pt 4pt #999;\n",
       "  /* unfitted */\n",
       "  background: var(--sklearn-color-unfitted-level-0);\n",
       "  border: .5pt solid var(--sklearn-color-unfitted-level-3);\n",
       "}\n",
       "\n",
       ".sk-estimator-doc-link.fitted span {\n",
       "  /* fitted */\n",
       "  background: var(--sklearn-color-fitted-level-0);\n",
       "  border: var(--sklearn-color-fitted-level-3);\n",
       "}\n",
       "\n",
       ".sk-estimator-doc-link:hover span {\n",
       "  display: block;\n",
       "}\n",
       "\n",
       "/* \"?\"-specific style due to the `<a>` HTML tag */\n",
       "\n",
       "#sk-container-id-1 a.estimator_doc_link {\n",
       "  float: right;\n",
       "  font-size: 1rem;\n",
       "  line-height: 1em;\n",
       "  font-family: monospace;\n",
       "  background-color: var(--sklearn-color-background);\n",
       "  border-radius: 1rem;\n",
       "  height: 1rem;\n",
       "  width: 1rem;\n",
       "  text-decoration: none;\n",
       "  /* unfitted */\n",
       "  color: var(--sklearn-color-unfitted-level-1);\n",
       "  border: var(--sklearn-color-unfitted-level-1) 1pt solid;\n",
       "}\n",
       "\n",
       "#sk-container-id-1 a.estimator_doc_link.fitted {\n",
       "  /* fitted */\n",
       "  border: var(--sklearn-color-fitted-level-1) 1pt solid;\n",
       "  color: var(--sklearn-color-fitted-level-1);\n",
       "}\n",
       "\n",
       "/* On hover */\n",
       "#sk-container-id-1 a.estimator_doc_link:hover {\n",
       "  /* unfitted */\n",
       "  background-color: var(--sklearn-color-unfitted-level-3);\n",
       "  color: var(--sklearn-color-background);\n",
       "  text-decoration: none;\n",
       "}\n",
       "\n",
       "#sk-container-id-1 a.estimator_doc_link.fitted:hover {\n",
       "  /* fitted */\n",
       "  background-color: var(--sklearn-color-fitted-level-3);\n",
       "}\n",
       "</style><div id=\"sk-container-id-1\" class=\"sk-top-container\"><div class=\"sk-text-repr-fallback\"><pre>DecisionTreeClassifier(random_state=42)</pre><b>In a Jupyter environment, please rerun this cell to show the HTML representation or trust the notebook. <br />On GitHub, the HTML representation is unable to render, please try loading this page with nbviewer.org.</b></div><div class=\"sk-container\" hidden><div class=\"sk-item\"><div class=\"sk-estimator fitted sk-toggleable\"><input class=\"sk-toggleable__control sk-hidden--visually\" id=\"sk-estimator-id-1\" type=\"checkbox\" checked><label for=\"sk-estimator-id-1\" class=\"sk-toggleable__label fitted sk-toggleable__label-arrow fitted\">&nbsp;&nbsp;DecisionTreeClassifier<a class=\"sk-estimator-doc-link fitted\" rel=\"noreferrer\" target=\"_blank\" href=\"https://scikit-learn.org/1.5/modules/generated/sklearn.tree.DecisionTreeClassifier.html\">?<span>Documentation for DecisionTreeClassifier</span></a><span class=\"sk-estimator-doc-link fitted\">i<span>Fitted</span></span></label><div class=\"sk-toggleable__content fitted\"><pre>DecisionTreeClassifier(random_state=42)</pre></div> </div></div></div></div>"
      ],
      "text/plain": [
       "DecisionTreeClassifier(random_state=42)"
      ]
     },
     "execution_count": 4,
     "metadata": {},
     "output_type": "execute_result"
    }
   ],
   "source": [
    "from sklearn.tree import DecisionTreeClassifier\n",
    "from sklearn.metrics import accuracy_score, classification_report\n",
    "\n",
    "# Initialize the Decision Tree Classifier\n",
    "clf = DecisionTreeClassifier(random_state=42)\n",
    "\n",
    "# Train the classifier on the training data\n",
    "clf.fit(x_train, y_train)"
   ]
  },
  {
   "cell_type": "markdown",
   "metadata": {},
   "source": [
    "<strong>5.</strong> Use the classifier trained in step 4 to make predictions on the test set generated in step 3."
   ]
  },
  {
   "cell_type": "code",
   "execution_count": 5,
   "metadata": {},
   "outputs": [],
   "source": [
    "# Predict on the test set\n",
    "y_pred = clf.predict(x_test)"
   ]
  },
  {
   "cell_type": "markdown",
   "metadata": {},
   "source": [
    "<strong>6.</strong> Compute the accuracy of the classifier on the test set generated in step 3 and then, on the train test. Discuss the results."
   ]
  },
  {
   "cell_type": "code",
   "execution_count": 6,
   "metadata": {},
   "outputs": [
    {
     "name": "stdout",
     "output_type": "stream",
     "text": [
      "Test Accuracy: 1.00\n",
      "Train Accuracy: 1.00\n"
     ]
    }
   ],
   "source": [
    "# Compute accuracy on the test set\n",
    "test_accuracy = accuracy_score(y_test, y_pred)\n",
    "\n",
    "# Compute accuracy on the training set\n",
    "y_train_pred = clf.predict(x_train)\n",
    "train_accuracy = accuracy_score(y_train, y_train_pred)\n",
    "\n",
    "# Display the results\n",
    "print(f\"Test Accuracy: {test_accuracy:.2f}\")\n",
    "print(f\"Train Accuracy: {train_accuracy:.2f}\")"
   ]
  },
  {
   "cell_type": "markdown",
   "metadata": {},
   "source": [
    "<strong>7.</strong> Compute precision and recall of the classifier on the test set generated in step 3 and save to file or display the results. Define (theoretically) precision and recall. Discuss the results."
   ]
  },
  {
   "cell_type": "code",
   "execution_count": 7,
   "metadata": {},
   "outputs": [
    {
     "name": "stdout",
     "output_type": "stream",
     "text": [
      "Precision: 1.00\n",
      "Recall: 1.00\n"
     ]
    }
   ],
   "source": [
    "from sklearn.metrics import precision_score, recall_score\n",
    "\n",
    "# Calculate precision\n",
    "precision = precision_score(y_test, y_pred, average='weighted')\n",
    "\n",
    "# Calculate recall\n",
    "recall = recall_score(y_test, y_pred, average='weighted')\n",
    "\n",
    "# Display results\n",
    "print(f\"Precision: {precision:.2f}\")\n",
    "print(f\"Recall: {recall:.2f}\")"
   ]
  },
  {
   "cell_type": "markdown",
   "metadata": {},
   "source": [
    "<strong>8.</strong> Predict the color for all the pixels of the first image and save the predicted colors to a new image using the code below (Partial code given. Must be completed). Be able to explain the code below. "
   ]
  },
  {
   "cell_type": "code",
   "execution_count": 8,
   "metadata": {},
   "outputs": [],
   "source": [
    "image = Image.open('data1.png')\n",
    "width, height = image.size\n",
    "\n",
    "def generate_pixel_coordinates():\n",
    "    points = []\n",
    "    for i in range (width):\n",
    "        for j in range(height):\n",
    "            points.append([i,j])\n",
    "            \n",
    "    return points\n",
    "        \n",
    "def getRGBfromI(RGBint):#convert int color code to rgb color code\n",
    "    blue =  RGBint & 255\n",
    "    green = (RGBint >> 8) & 255\n",
    "    red =   (RGBint >> 16) & 255\n",
    "    return red, green, blue\n",
    "\n",
    "def save_data(pixels, colors, output_filename):\n",
    "    \n",
    "    im = Image.new(\"RGB\", (width, height))\n",
    "    pix = im.load()\n",
    "    for i in range(len(pixels)):\n",
    "             pix[pixels[i][0],pixels[i][1]] = getRGBfromI(colors[i])\n",
    "\n",
    "    im.save(output_filename, \"PNG\")    "
   ]
  },
  {
   "cell_type": "code",
   "execution_count": 9,
   "metadata": {},
   "outputs": [
    {
     "name": "stdout",
     "output_type": "stream",
     "text": [
      "The predicted image has been saved as 'dt_predicted_image1.png'.\n"
     ]
    }
   ],
   "source": [
    "# Load the original image\n",
    "image = Image.open('data1.png')\n",
    "width, height = image.size\n",
    "\n",
    "# Generate pixel coordinates for the entire image\n",
    "all_pixels = generate_pixel_coordinates()\n",
    "\n",
    "# Predict the color for each pixel using the trained classifier\n",
    "predicted_colors = clf.predict(all_pixels)\n",
    "\n",
    "# Save the predicted colors to a new image\n",
    "save_data(all_pixels, predicted_colors, 'dt_predicted_image1.png')\n",
    "\n",
    "print(\"The predicted image has been saved as 'dt_predicted_image1.png'.\")"
   ]
  },
  {
   "cell_type": "markdown",
   "metadata": {},
   "source": [
    "<div style=\"text-align: center;\">\n",
    "    <img src=\"dt_predicted_image1.png\" alt=\"This image is not available\" style=\"height: 300px; display: block; margin: 0 auto;\">\n",
    "    <i>dt_predicted_image1.png</i>\n",
    "</div>"
   ]
  },
  {
   "cell_type": "markdown",
   "metadata": {},
   "source": [
    "<strong>9.</strong> Use the k-fold cross-validation, with different values of k, for evaluating the model (e.g. k=3,5,10). Compute the cross-validation accurracy and the mean accurracy. Report results for all runs and compare them with the accuracy obtained in the Step 6."
   ]
  },
  {
   "cell_type": "code",
   "execution_count": 10,
   "metadata": {},
   "outputs": [
    {
     "name": "stdout",
     "output_type": "stream",
     "text": [
      "Results for k=3:\n",
      "Cross-validation accuracies: [0.60992218 0.82667965 0.52872444]\n",
      "Mean accuracy: 0.66\n",
      "\n",
      "Results for k=5:\n",
      "Cross-validation accuracies: [0.54781199 0.85575365 0.81980519 0.86038961 0.5275974 ]\n",
      "Mean accuracy: 0.72\n",
      "\n",
      "Results for k=10:\n",
      "Cross-validation accuracies: [0.69255663 0.89644013 1.         1.         0.82792208 0.7987013\n",
      " 1.         1.         0.7987013  0.79220779]\n",
      "Mean accuracy: 0.88\n",
      "\n"
     ]
    }
   ],
   "source": [
    "from sklearn.model_selection import cross_val_score\n",
    "\n",
    "# List of different values of k for k-fold cross-validation\n",
    "k_values = [3, 5, 10]\n",
    "\n",
    "# Dictionary to store the cross-validation results\n",
    "cv_results = {}\n",
    "\n",
    "# Perform k-fold cross-validation for each k value\n",
    "for k in k_values:\n",
    "    # Initialize the k-fold cross-validation method\n",
    "    scores = cross_val_score(clf, x_data1, y_data1, cv=k)\n",
    "    \n",
    "    # Store the scores and calculate the mean accuracy\n",
    "    cv_results[k] = {\n",
    "        \"scores\": scores,\n",
    "        \"mean_accuracy\": scores.mean()\n",
    "    }\n",
    "\n",
    "    # Print the results for each k\n",
    "    print(f\"Results for k={k}:\")\n",
    "    print(f\"Cross-validation accuracies: {scores}\")\n",
    "    print(f\"Mean accuracy: {scores.mean():.2f}\")\n",
    "    print()"
   ]
  },
  {
   "cell_type": "markdown",
   "metadata": {},
   "source": [
    "<strong>10.</strong> Repeat steps 3-9 for the second and third classifier."
   ]
  },
  {
   "cell_type": "markdown",
   "metadata": {},
   "source": [
    "# SVM"
   ]
  },
  {
   "cell_type": "markdown",
   "metadata": {},
   "source": [
    "Choose a classifier in category b) and train it on the training set generated in step 3."
   ]
  },
  {
   "cell_type": "code",
   "execution_count": 11,
   "metadata": {},
   "outputs": [
    {
     "name": "stdout",
     "output_type": "stream",
     "text": [
      "SVM Classifier has been successfully trained.\n"
     ]
    }
   ],
   "source": [
    "from sklearn.svm import SVC\n",
    "\n",
    "# Initialize the SVM classifier\n",
    "svm_classifier = SVC()\n",
    "\n",
    "# Train the classifier on the training data\n",
    "svm_classifier.fit(x_train, y_train)\n",
    "\n",
    "print(\"SVM Classifier has been successfully trained.\")"
   ]
  },
  {
   "cell_type": "markdown",
   "metadata": {},
   "source": [
    "Use the classifier trained in the previous step to make predictions on the test set generated in step 3."
   ]
  },
  {
   "cell_type": "code",
   "execution_count": 12,
   "metadata": {},
   "outputs": [],
   "source": [
    "# Predict the labels for the test data\n",
    "y_pred_svm = svm_classifier.predict(x_test)"
   ]
  },
  {
   "cell_type": "markdown",
   "metadata": {},
   "source": [
    "Compute the accuracy of the classifier on the test set generated in step 3 and then, on the train test. Discuss the results."
   ]
  },
  {
   "cell_type": "code",
   "execution_count": 13,
   "metadata": {},
   "outputs": [
    {
     "name": "stdout",
     "output_type": "stream",
     "text": [
      "Test Accuracy: 1.00\n",
      "Train Accuracy: 1.00\n"
     ]
    }
   ],
   "source": [
    "from sklearn.metrics import accuracy_score\n",
    "\n",
    "# Compute accuracy on the test set\n",
    "test_accuracy_svm = accuracy_score(y_test, y_pred_svm)\n",
    "print(f\"Test Accuracy: {test_accuracy_svm:.2f}\")\n",
    "\n",
    "# Predict on the training set\n",
    "y_train_pred_svm = svm_classifier.predict(x_train)\n",
    "\n",
    "# Compute accuracy on the training set\n",
    "train_accuracy_svm = accuracy_score(y_train, y_train_pred_svm)\n",
    "print(f\"Train Accuracy: {train_accuracy_svm:.2f}\")"
   ]
  },
  {
   "cell_type": "markdown",
   "metadata": {},
   "source": [
    "Compute precision and recall of the classifier on the test set generated in step 3 and save to file or display the results. Define (theoretically) precision and recall. Discuss the results."
   ]
  },
  {
   "cell_type": "code",
   "execution_count": 14,
   "metadata": {},
   "outputs": [
    {
     "name": "stdout",
     "output_type": "stream",
     "text": [
      "Precision: 1.00\n",
      "Recall: 1.00\n"
     ]
    }
   ],
   "source": [
    "from sklearn.metrics import precision_score, recall_score\n",
    "\n",
    "# Compute precision\n",
    "precision_svm = precision_score(y_test, y_pred_svm, average='weighted')\n",
    "\n",
    "# Compute recall\n",
    "recall_svm = recall_score(y_test, y_pred_svm, average='weighted')\n",
    "\n",
    "# Display the results\n",
    "print(f\"Precision: {precision_svm:.2f}\")\n",
    "print(f\"Recall: {recall_svm:.2f}\")"
   ]
  },
  {
   "cell_type": "markdown",
   "metadata": {},
   "source": [
    "Predict the color for all the pixels of the first image and save the predicted colors to a new image. Be able to explain the code below."
   ]
  },
  {
   "cell_type": "code",
   "execution_count": 15,
   "metadata": {},
   "outputs": [
    {
     "name": "stdout",
     "output_type": "stream",
     "text": [
      "The predicted image has been saved as 'svm_predicted_image1.png'.\n"
     ]
    }
   ],
   "source": [
    "# Load the original image\n",
    "image = Image.open('data1.png')\n",
    "width, height = image.size\n",
    "\n",
    "# Generate pixel coordinates for the entire image\n",
    "all_pixels = generate_pixel_coordinates()\n",
    "\n",
    "# Predict the color for each pixel using the trained classifier\n",
    "predicted_colors = svm_classifier.predict(all_pixels)\n",
    "\n",
    "# Save the predicted colors to a new image\n",
    "save_data(all_pixels, predicted_colors, 'svm_predicted_image1.png')\n",
    "\n",
    "print(\"The predicted image has been saved as 'svm_predicted_image1.png'.\")"
   ]
  },
  {
   "cell_type": "markdown",
   "metadata": {},
   "source": [
    "<div style=\"text-align: center;\">\n",
    "    <img src=\"svm_predicted_image1.png\" alt=\"This image is not available\" style=\"height: 300px; display: block; margin: 0 auto;\">\n",
    "    <i>svm_predicted_image1.png</i>\n",
    "</div>"
   ]
  },
  {
   "cell_type": "markdown",
   "metadata": {},
   "source": [
    "Use the k-fold cross-validation, with different values of k, for evaluating the model (e.g. k=3,5,10). Compute the cross-validation accurracy and the mean accurracy. Report results for all runs and compare them with the accuracy obtained for SVM."
   ]
  },
  {
   "cell_type": "code",
   "execution_count": 16,
   "metadata": {},
   "outputs": [
    {
     "name": "stdout",
     "output_type": "stream",
     "text": [
      "Results for k=3:\n",
      "Cross-validation accuracies: [0.77723735 1.         0.69522882]\n",
      "Mean accuracy: 0.82\n",
      "\n",
      "Results for k=5:\n",
      "Cross-validation accuracies: [0.73743922 1.         1.         1.         0.98051948]\n",
      "Mean accuracy: 0.94\n",
      "\n",
      "Results for k=10:\n",
      "Cross-validation accuracies: [0.83495146 1.         1.         1.         1.         1.\n",
      " 1.         1.         1.         1.        ]\n",
      "Mean accuracy: 0.98\n",
      "\n"
     ]
    }
   ],
   "source": [
    "from sklearn.model_selection import cross_val_score\n",
    "\n",
    "# List of different values of k for k-fold cross-validation\n",
    "k_values = [3, 5, 10]\n",
    "\n",
    "# Dictionary to store the cross-validation results\n",
    "cv_results = {}\n",
    "\n",
    "# Perform k-fold cross-validation for each k value\n",
    "for k in k_values:\n",
    "    # Initialize the k-fold cross-validation method\n",
    "    scores = cross_val_score(svm_classifier, x_data1, y_data1, cv=k)\n",
    "    \n",
    "    # Store the scores and calculate the mean accuracy\n",
    "    cv_results[k] = {\n",
    "        \"scores\": scores,\n",
    "        \"mean_accuracy\": scores.mean()\n",
    "    }\n",
    "\n",
    "    # Print the results for each k\n",
    "    print(f\"Results for k={k}:\")\n",
    "    print(f\"Cross-validation accuracies: {scores}\")\n",
    "    print(f\"Mean accuracy: {scores.mean():.2f}\")\n",
    "    print()"
   ]
  },
  {
   "cell_type": "markdown",
   "metadata": {},
   "source": [
    "# Random forest"
   ]
  },
  {
   "cell_type": "markdown",
   "metadata": {},
   "source": [
    "Choose a classifier in category c) and train it on the training set generated in step 3."
   ]
  },
  {
   "cell_type": "code",
   "execution_count": 17,
   "metadata": {},
   "outputs": [
    {
     "name": "stdout",
     "output_type": "stream",
     "text": [
      "Random Forest Classifier has been successfully trained.\n"
     ]
    }
   ],
   "source": [
    "from sklearn.ensemble import RandomForestClassifier\n",
    "\n",
    "# Initialize the Random Forest classifier\n",
    "rf_classifier = RandomForestClassifier(n_estimators=100, random_state=42)\n",
    "\n",
    "# Train the classifier on the training data\n",
    "rf_classifier.fit(x_train, y_train)\n",
    "\n",
    "print(\"Random Forest Classifier has been successfully trained.\")"
   ]
  },
  {
   "cell_type": "markdown",
   "metadata": {},
   "source": [
    "Use the classifier trained in the previous step to make predictions on the test set generated in step 3."
   ]
  },
  {
   "cell_type": "code",
   "execution_count": 18,
   "metadata": {},
   "outputs": [],
   "source": [
    "# Predict the labels for the test data\n",
    "y_pred_rf = rf_classifier.predict(x_test)"
   ]
  },
  {
   "cell_type": "markdown",
   "metadata": {},
   "source": [
    "Compute the accuracy of the classifier on the test set generated in step 3 and then, on the train test. Discuss the results."
   ]
  },
  {
   "cell_type": "code",
   "execution_count": 19,
   "metadata": {},
   "outputs": [
    {
     "name": "stdout",
     "output_type": "stream",
     "text": [
      "Test Accuracy: 1.00\n",
      "Train Accuracy: 1.00\n"
     ]
    }
   ],
   "source": [
    "from sklearn.metrics import accuracy_score\n",
    "\n",
    "# Compute accuracy on the test set\n",
    "test_accuracy_rf = accuracy_score(y_test, y_pred_rf)\n",
    "print(f\"Test Accuracy: {test_accuracy_rf:.2f}\")\n",
    "\n",
    "# Predict on the training set\n",
    "y_train_pred_rf = rf_classifier.predict(x_train)\n",
    "\n",
    "# Compute accuracy on the training set\n",
    "train_accuracy_rf = accuracy_score(y_train, y_train_pred_rf)\n",
    "print(f\"Train Accuracy: {train_accuracy_rf:.2f}\")"
   ]
  },
  {
   "cell_type": "markdown",
   "metadata": {},
   "source": [
    "Compute precision and recall of the classifier on the test set generated in step 3 and save to file or display the results. Define (theoretically) precision and recall. Discuss the results."
   ]
  },
  {
   "cell_type": "code",
   "execution_count": 20,
   "metadata": {},
   "outputs": [
    {
     "name": "stdout",
     "output_type": "stream",
     "text": [
      "Precision: 1.00\n",
      "Recall: 1.00\n"
     ]
    }
   ],
   "source": [
    "from sklearn.metrics import precision_score, recall_score\n",
    "\n",
    "# Compute precision\n",
    "precision_rf = precision_score(y_test, y_pred_rf, average='weighted')\n",
    "\n",
    "# Compute recall\n",
    "recall_rf = recall_score(y_test, y_pred_rf, average='weighted')\n",
    "\n",
    "# Display the results\n",
    "print(f\"Precision: {precision_rf:.2f}\")\n",
    "print(f\"Recall: {recall_rf:.2f}\")"
   ]
  },
  {
   "cell_type": "markdown",
   "metadata": {},
   "source": [
    "Predict the color for all the pixels of the first image and save the predicted colors to a new image. Be able to explain the code below."
   ]
  },
  {
   "cell_type": "code",
   "execution_count": 21,
   "metadata": {},
   "outputs": [
    {
     "name": "stdout",
     "output_type": "stream",
     "text": [
      "The predicted image has been saved as 'rf_predicted_image1.png'.\n"
     ]
    }
   ],
   "source": [
    "# Load the original image\n",
    "image = Image.open('data1.png')\n",
    "width, height = image.size\n",
    "\n",
    "# Generate pixel coordinates for the entire image\n",
    "all_pixels = generate_pixel_coordinates()\n",
    "\n",
    "# Predict the color for each pixel using the trained classifier\n",
    "predicted_colors = rf_classifier.predict(all_pixels)\n",
    "\n",
    "# Save the predicted colors to a new image\n",
    "save_data(all_pixels, predicted_colors, 'rf_predicted_image1.png')\n",
    "\n",
    "print(\"The predicted image has been saved as 'rf_predicted_image1.png'.\")"
   ]
  },
  {
   "cell_type": "markdown",
   "metadata": {},
   "source": [
    "<div style=\"text-align: center;\">\n",
    "    <img src=\"rf_predicted_image1.png\" alt=\"This image is not available\" style=\"height: 300px; display: block; margin: 0 auto;\">\n",
    "    <i>rf_predicted_image1.png</i>\n",
    "</div>"
   ]
  },
  {
   "cell_type": "markdown",
   "metadata": {},
   "source": [
    "Use the k-fold cross-validation, with different values of k, for evaluating the model (e.g. k=3,5,10). Compute the cross-validation accurracy and the mean accurracy. Report results for all runs and compare them with the accuracy obtained for Random Forest."
   ]
  },
  {
   "cell_type": "code",
   "execution_count": 22,
   "metadata": {},
   "outputs": [
    {
     "name": "stdout",
     "output_type": "stream",
     "text": [
      "Results for k=3:\n",
      "Cross-validation accuracies: [0.60992218 0.82667965 0.52872444]\n",
      "Mean accuracy: 0.66\n",
      "\n",
      "Results for k=5:\n",
      "Cross-validation accuracies: [0.54781199 0.85575365 0.83928571 0.86038961 0.5275974 ]\n",
      "Mean accuracy: 0.73\n",
      "\n",
      "Results for k=10:\n",
      "Cross-validation accuracies: [0.62783172 0.96116505 1.         1.         0.82792208 0.97727273\n",
      " 1.         1.         0.83441558 0.80519481]\n",
      "Mean accuracy: 0.90\n",
      "\n"
     ]
    }
   ],
   "source": [
    "from sklearn.model_selection import cross_val_score\n",
    "\n",
    "# List of different values of k for k-fold cross-validation\n",
    "k_values = [3, 5, 10]\n",
    "\n",
    "# Dictionary to store the cross-validation results\n",
    "cv_results = {}\n",
    "\n",
    "# Perform k-fold cross-validation for each k value\n",
    "for k in k_values:\n",
    "    # Initialize the k-fold cross-validation method\n",
    "    scores = cross_val_score(rf_classifier, x_data1, y_data1, cv=k)\n",
    "    \n",
    "    # Store the scores and calculate the mean accuracy\n",
    "    cv_results[k] = {\n",
    "        \"scores\": scores,\n",
    "        \"mean_accuracy\": scores.mean()\n",
    "    }\n",
    "\n",
    "    # Print the results for each k\n",
    "    print(f\"Results for k={k}:\")\n",
    "    print(f\"Cross-validation accuracies: {scores}\")\n",
    "    print(f\"Mean accuracy: {scores.mean():.2f}\")\n",
    "    print()"
   ]
  },
  {
   "cell_type": "markdown",
   "metadata": {},
   "source": [
    "<strong>11.</strong> From scikit-learn study the documentation for the second classifier chosen, select two representative hyperparameters and repeat at least 2 times steps 4-8 for different values of these hyperparameters. Report results for all runs and compare them."
   ]
  },
  {
   "cell_type": "markdown",
   "metadata": {},
   "source": [
    "# C=0.01, kernel='linear'"
   ]
  },
  {
   "cell_type": "markdown",
   "metadata": {},
   "source": [
    "Choose a classifier in category b) and train it on the training set generated in step 3."
   ]
  },
  {
   "cell_type": "code",
   "execution_count": 23,
   "metadata": {},
   "outputs": [
    {
     "name": "stdout",
     "output_type": "stream",
     "text": [
      "SVM Classifier with C=0.01 and kernel='linear' has been successfully trained.\n"
     ]
    }
   ],
   "source": [
    "from sklearn.svm import SVC\n",
    "\n",
    "# Initialize the SVM classifier\n",
    "svm_classifier = SVC(C=0.01, kernel='linear')\n",
    "\n",
    "# Train the classifier on the training data\n",
    "svm_classifier.fit(x_train, y_train)\n",
    "\n",
    "print(\"SVM Classifier with C=0.01 and kernel='linear' has been successfully trained.\")"
   ]
  },
  {
   "cell_type": "markdown",
   "metadata": {},
   "source": [
    "Use the classifier trained in the previous step to make predictions on the test set generated in step 3."
   ]
  },
  {
   "cell_type": "code",
   "execution_count": 24,
   "metadata": {},
   "outputs": [],
   "source": [
    "# Predict the labels for the test data\n",
    "y_pred_svm = svm_classifier.predict(x_test)"
   ]
  },
  {
   "cell_type": "markdown",
   "metadata": {},
   "source": [
    "Compute the accuracy of the classifier on the test set generated in step 3 and then, on the train test. Discuss the results."
   ]
  },
  {
   "cell_type": "code",
   "execution_count": 25,
   "metadata": {},
   "outputs": [
    {
     "name": "stdout",
     "output_type": "stream",
     "text": [
      "Test Accuracy: 1.00\n",
      "Train Accuracy: 1.00\n"
     ]
    }
   ],
   "source": [
    "from sklearn.metrics import accuracy_score\n",
    "\n",
    "# Compute accuracy on the test set\n",
    "test_accuracy_svm = accuracy_score(y_test, y_pred_svm)\n",
    "print(f\"Test Accuracy: {test_accuracy_svm:.2f}\")\n",
    "\n",
    "# Predict on the training set\n",
    "y_train_pred_svm = svm_classifier.predict(x_train)\n",
    "\n",
    "# Compute accuracy on the training set\n",
    "train_accuracy_svm = accuracy_score(y_train, y_train_pred_svm)\n",
    "print(f\"Train Accuracy: {train_accuracy_svm:.2f}\")"
   ]
  },
  {
   "cell_type": "markdown",
   "metadata": {},
   "source": [
    "Compute precision and recall of the classifier on the test set generated in step 3 and save to file or display the results. Define (theoretically) precision and recall. Discuss the results."
   ]
  },
  {
   "cell_type": "code",
   "execution_count": 26,
   "metadata": {},
   "outputs": [
    {
     "name": "stdout",
     "output_type": "stream",
     "text": [
      "Precision: 1.00\n",
      "Recall: 1.00\n"
     ]
    }
   ],
   "source": [
    "from sklearn.metrics import precision_score, recall_score\n",
    "\n",
    "# Compute precision\n",
    "precision_svm = precision_score(y_test, y_pred_svm, average='weighted')\n",
    "\n",
    "# Compute recall\n",
    "recall_svm = recall_score(y_test, y_pred_svm, average='weighted')\n",
    "\n",
    "# Display the results\n",
    "print(f\"Precision: {precision_svm:.2f}\")\n",
    "print(f\"Recall: {recall_svm:.2f}\")"
   ]
  },
  {
   "cell_type": "markdown",
   "metadata": {},
   "source": [
    "Predict the color for all the pixels of the first image and save the predicted colors to a new image. Be able to explain the code below."
   ]
  },
  {
   "cell_type": "code",
   "execution_count": 27,
   "metadata": {},
   "outputs": [
    {
     "name": "stdout",
     "output_type": "stream",
     "text": [
      "The predicted image has been saved as 'svm_hyperparameters_config1_predicted_image1.png'.\n"
     ]
    }
   ],
   "source": [
    "# Load the original image\n",
    "image = Image.open('data1.png')\n",
    "width, height = image.size\n",
    "\n",
    "# Generate pixel coordinates for the entire image\n",
    "all_pixels = generate_pixel_coordinates()\n",
    "\n",
    "# Predict the color for each pixel using the trained classifier\n",
    "predicted_colors = svm_classifier.predict(all_pixels)\n",
    "\n",
    "# Save the predicted colors to a new image\n",
    "save_data(all_pixels, predicted_colors, 'svm_hyperparameters_config1_predicted_image1.png')\n",
    "\n",
    "print(\"The predicted image has been saved as 'svm_hyperparameters_config1_predicted_image1.png'.\")"
   ]
  },
  {
   "cell_type": "markdown",
   "metadata": {},
   "source": [
    "<div style=\"text-align: center;\">\n",
    "    <img src=\"svm_hyperparameters_config1_predicted_image1.png\" alt=\"This image is not available\" style=\"height: 300px; display: block; margin: 0 auto;\">\n",
    "    <i>svm_hyperparameters_config1_predicted_image1.png</i>\n",
    "</div>"
   ]
  },
  {
   "cell_type": "markdown",
   "metadata": {},
   "source": [
    "# C=100.0, kernel='rbf'"
   ]
  },
  {
   "cell_type": "markdown",
   "metadata": {},
   "source": [
    "Choose a classifier in category b) and train it on the training set generated in step 3."
   ]
  },
  {
   "cell_type": "code",
   "execution_count": 28,
   "metadata": {},
   "outputs": [
    {
     "name": "stdout",
     "output_type": "stream",
     "text": [
      "SVM Classifier with C=100.0 and kernel='rbf' has been successfully trained.\n"
     ]
    }
   ],
   "source": [
    "from sklearn.svm import SVC\n",
    "\n",
    "# Initialize the SVM classifier\n",
    "svm_classifier = SVC(C=100.0, kernel='rbf')\n",
    "\n",
    "# Train the classifier on the training data\n",
    "svm_classifier.fit(x_train, y_train)\n",
    "\n",
    "print(\"SVM Classifier with C=100.0 and kernel='rbf' has been successfully trained.\")"
   ]
  },
  {
   "cell_type": "markdown",
   "metadata": {},
   "source": [
    "Use the classifier trained in the previous step to make predictions on the test set generated in step 3."
   ]
  },
  {
   "cell_type": "code",
   "execution_count": 29,
   "metadata": {},
   "outputs": [],
   "source": [
    "# Predict the labels for the test data\n",
    "y_pred_svm = svm_classifier.predict(x_test)"
   ]
  },
  {
   "cell_type": "markdown",
   "metadata": {},
   "source": [
    "Compute the accuracy of the classifier on the test set generated in step 3 and then, on the train test. Discuss the results."
   ]
  },
  {
   "cell_type": "code",
   "execution_count": 30,
   "metadata": {},
   "outputs": [
    {
     "name": "stdout",
     "output_type": "stream",
     "text": [
      "Test Accuracy: 1.00\n",
      "Train Accuracy: 1.00\n"
     ]
    }
   ],
   "source": [
    "from sklearn.metrics import accuracy_score\n",
    "\n",
    "# Compute accuracy on the test set\n",
    "test_accuracy_svm = accuracy_score(y_test, y_pred_svm)\n",
    "print(f\"Test Accuracy: {test_accuracy_svm:.2f}\")\n",
    "\n",
    "# Predict on the training set\n",
    "y_train_pred_svm = svm_classifier.predict(x_train)\n",
    "\n",
    "# Compute accuracy on the training set\n",
    "train_accuracy_svm = accuracy_score(y_train, y_train_pred_svm)\n",
    "print(f\"Train Accuracy: {train_accuracy_svm:.2f}\")"
   ]
  },
  {
   "cell_type": "markdown",
   "metadata": {},
   "source": [
    "Compute precision and recall of the classifier on the test set generated in step 3 and save to file or display the results. Define (theoretically) precision and recall. Discuss the results."
   ]
  },
  {
   "cell_type": "code",
   "execution_count": 31,
   "metadata": {},
   "outputs": [
    {
     "name": "stdout",
     "output_type": "stream",
     "text": [
      "Precision: 1.00\n",
      "Recall: 1.00\n"
     ]
    }
   ],
   "source": [
    "from sklearn.metrics import precision_score, recall_score\n",
    "\n",
    "# Compute precision\n",
    "precision_svm = precision_score(y_test, y_pred_svm, average='weighted')\n",
    "\n",
    "# Compute recall\n",
    "recall_svm = recall_score(y_test, y_pred_svm, average='weighted')\n",
    "\n",
    "# Display the results\n",
    "print(f\"Precision: {precision_svm:.2f}\")\n",
    "print(f\"Recall: {recall_svm:.2f}\")"
   ]
  },
  {
   "cell_type": "markdown",
   "metadata": {},
   "source": [
    "Predict the color for all the pixels of the first image and save the predicted colors to a new image. Be able to explain the code below."
   ]
  },
  {
   "cell_type": "code",
   "execution_count": 32,
   "metadata": {},
   "outputs": [
    {
     "name": "stdout",
     "output_type": "stream",
     "text": [
      "The predicted image has been saved as 'svm_hyperparameters_config2_predicted_image1.png'.\n"
     ]
    }
   ],
   "source": [
    "# Load the original image\n",
    "image = Image.open('data1.png')\n",
    "width, height = image.size\n",
    "\n",
    "# Generate pixel coordinates for the entire image\n",
    "all_pixels = generate_pixel_coordinates()\n",
    "\n",
    "# Predict the color for each pixel using the trained classifier\n",
    "predicted_colors = svm_classifier.predict(all_pixels)\n",
    "\n",
    "# Save the predicted colors to a new image\n",
    "save_data(all_pixels, predicted_colors, 'svm_hyperparameters_config2_predicted_image1.png')\n",
    "\n",
    "print(\"The predicted image has been saved as 'svm_hyperparameters_config2_predicted_image1.png'.\")"
   ]
  },
  {
   "cell_type": "markdown",
   "metadata": {},
   "source": [
    "<div style=\"text-align: center;\">\n",
    "    <img src=\"svm_hyperparameters_config2_predicted_image1.png\" alt=\"This image is not available\" style=\"height: 300px; display: block; margin: 0 auto;\">\n",
    "    <i>svm_hyperparameters_config2_predicted_image1.png</i>\n",
    "</div>"
   ]
  },
  {
   "cell_type": "markdown",
   "metadata": {},
   "source": [
    "## Comparison "
   ]
  },
  {
   "cell_type": "markdown",
   "metadata": {},
   "source": [
    "<div style=\"display: flex; gap: 10px;\">\n",
    "  <div style=\"text-align: center;\">\n",
    "    <img src=\"svm_predicted_image1.png\" alt=\"This image is not available\" style=\"height: 300px;\">\n",
    "    <br>\n",
    "    <i>Default SVM</i>\n",
    "  </div>\n",
    "  <div style=\"text-align: center; margin-left: 100px;\">\n",
    "    <img src=\"svm_hyperparameters_config1_predicted_image1.png\" alt=\"This image is not available\" style=\"height: 300px;\">\n",
    "    <br>\n",
    "    <i>SVM with C=0.01 and kernel='linear'</i>\n",
    "  </div>\n",
    "  <div style=\"text-align: center; margin-left: 100px;\">\n",
    "    <img src=\"svm_hyperparameters_config2_predicted_image1.png\" alt=\"This image is not available\" style=\"height: 300px;\">\n",
    "    <br>\n",
    "    <i>SVM with C=100.0 and kernel='rbf'</i>\n",
    "  </div>\n",
    "</div>"
   ]
  },
  {
   "cell_type": "markdown",
   "metadata": {},
   "source": [
    "<strong>12.</strong>Use grid search cross validation for optimizing the hyperparameters of the classifiers (for model selection). Report the optimal parameters given by the search.  Predict the color for all the pixels of the first image using the model with optimal parameters. "
   ]
  },
  {
   "cell_type": "markdown",
   "metadata": {},
   "source": [
    "# Decision Tree Classifier - Optimizing Hyperparameters"
   ]
  },
  {
   "cell_type": "code",
   "execution_count": 33,
   "metadata": {},
   "outputs": [
    {
     "name": "stdout",
     "output_type": "stream",
     "text": [
      "Best parameters found for the decision tree clasifier:  {'max_depth': None, 'min_samples_leaf': 1, 'min_samples_split': 2}\n",
      "The predicted image has been saved as 'optimized_dt_predicted_image1.png'.\n"
     ]
    }
   ],
   "source": [
    "from sklearn.tree import DecisionTreeClassifier\n",
    "from sklearn.model_selection import GridSearchCV\n",
    "\n",
    "# Define the parameter grid\n",
    "param_grid = {\n",
    "    'max_depth': [None, 10, 20, 30, 40, 50],\n",
    "    'min_samples_split': [2, 10, 20],\n",
    "    'min_samples_leaf': [1, 5, 10]\n",
    "}\n",
    "\n",
    "# Initialize the Decision Tree classifier\n",
    "dt = DecisionTreeClassifier(random_state=42)\n",
    "\n",
    "# Initialize the GridSearchCV object\n",
    "grid_search_dt = GridSearchCV(estimator=dt, param_grid=param_grid, cv=5, verbose=0)\n",
    "\n",
    "# Fit the grid search to the data\n",
    "grid_search_dt.fit(x_train, y_train)\n",
    "\n",
    "# Best parameter set found\n",
    "print(\"Best parameters found for the decision tree clasifier: \", grid_search_dt.best_params_)\n",
    "\n",
    "# Best estimator\n",
    "best_dt_classifier = grid_search_dt.best_estimator_\n",
    "\n",
    "# Load the original image\n",
    "image = Image.open('data1.png')\n",
    "width, height = image.size\n",
    "\n",
    "# Assuming functions to generate pixel coordinates and save data\n",
    "all_pixels = generate_pixel_coordinates()  # Assume this function exists\n",
    "\n",
    "# Predict the color for each pixel using the best classifier\n",
    "predicted_colors_dt = best_dt_classifier.predict(all_pixels)\n",
    "\n",
    "# Save or display the image from predicted colors\n",
    "save_data(all_pixels, predicted_colors_dt, 'optimized_dt_predicted_image1.png')  # Assume this function exists\n",
    "\n",
    "print(\"The predicted image has been saved as 'optimized_dt_predicted_image1.png'.\")"
   ]
  },
  {
   "cell_type": "markdown",
   "metadata": {},
   "source": [
    "<div style=\"text-align: center;\">\n",
    "    <img src=\"optimized_dt_predicted_image1.png\" alt=\"This image is not available\" style=\"height: 300px; display: block; margin: 0 auto;\">\n",
    "    <i>optimized_dt_predicted_image1.png</i>\n",
    "</div>"
   ]
  },
  {
   "cell_type": "markdown",
   "metadata": {},
   "source": [
    "# SVM Classifier - Optimizing Hyperparameters"
   ]
  },
  {
   "cell_type": "code",
   "execution_count": 34,
   "metadata": {},
   "outputs": [
    {
     "name": "stdout",
     "output_type": "stream",
     "text": [
      "Best parameters found for the SVM classifier:  {'C': 0.1, 'gamma': 'scale', 'kernel': 'linear'}\n",
      "The predicted image has been saved as 'optimized_svm_predicted_image1.png'.\n"
     ]
    }
   ],
   "source": [
    "from sklearn.model_selection import GridSearchCV\n",
    "from sklearn.svm import SVC\n",
    "\n",
    "# Define the parameter grid\n",
    "param_grid = {\n",
    "    'C': [0.1, 1, 10, 100],\n",
    "    'kernel': ['linear', 'rbf'],\n",
    "    'gamma': ['scale', 'auto']\n",
    "}\n",
    "\n",
    "# Initialize the SVM classifier\n",
    "svm = SVC()\n",
    "\n",
    "# Initialize the GridSearchCV object\n",
    "grid_search = GridSearchCV(estimator=svm, param_grid=param_grid, cv=5, verbose=0)\n",
    "\n",
    "# Fit the grid search to the data\n",
    "grid_search.fit(x_train, y_train)\n",
    "\n",
    "# Best parameter set found:\n",
    "print(\"Best parameters found for the SVM classifier: \", grid_search.best_params_)\n",
    "\n",
    "# Best estimator:\n",
    "best_classifier = grid_search.best_estimator_\n",
    "\n",
    "# Load the original image\n",
    "image = Image.open('data1.png')\n",
    "width, height = image.size\n",
    "\n",
    "# Function to generate all pixel coordinates for the image\n",
    "all_pixels = generate_pixel_coordinates()  # This function was assumed to be defined earlier\n",
    "\n",
    "# Predict the color for each pixel using the best classifier\n",
    "predicted_colors = best_classifier.predict(all_pixels)\n",
    "\n",
    "# Function to save data was assumed defined earlier\n",
    "save_data(all_pixels, predicted_colors, 'optimized_svm_predicted_image1.png')\n",
    "\n",
    "print(\"The predicted image has been saved as 'optimized_svm_predicted_image1.png'.\")"
   ]
  },
  {
   "cell_type": "markdown",
   "metadata": {},
   "source": [
    "<div style=\"text-align: center;\">\n",
    "    <img src=\"optimized_svm_predicted_image1.png\" alt=\"This image is not available\" style=\"height: 300px; display: block; margin: 0 auto;\">\n",
    "    <i>optimized_svm_predicted_image1.png</i>\n",
    "</div>"
   ]
  },
  {
   "cell_type": "markdown",
   "metadata": {},
   "source": [
    "# Random Forest Classifier - Optimizing Hyperparameters"
   ]
  },
  {
   "cell_type": "code",
   "execution_count": 35,
   "metadata": {},
   "outputs": [
    {
     "name": "stdout",
     "output_type": "stream",
     "text": [
      "Best parameters found for the random forest classifier:  {'max_depth': None, 'min_samples_leaf': 1, 'min_samples_split': 2, 'n_estimators': 100}\n",
      "The predicted image has been saved as 'optimized_rf_predicted_image1.png'.\n"
     ]
    }
   ],
   "source": [
    "from sklearn.ensemble import RandomForestClassifier\n",
    "from sklearn.model_selection import GridSearchCV\n",
    "\n",
    "# Define the parameter grid\n",
    "param_grid_rf_too_much = {\n",
    "    'n_estimators': [100, 200, 300],  # Number of trees\n",
    "    'max_depth': [None, 10, 20, 30],  # Maximum depth of each tree\n",
    "    'min_samples_split': [2, 5, 10],  # Minimum number of samples required to split an internal node\n",
    "    'min_samples_leaf': [1, 2, 4]     # Minimum number of samples required to be at a leaf node\n",
    "}\n",
    "\n",
    "param_grid_rf = {\n",
    "    'n_estimators': [100, 200],  # Reduced from [100, 200, 300]\n",
    "    'max_depth': [None, 20],  # Simplified choices\n",
    "    'min_samples_split': [2, 10],  # Only extremes\n",
    "    'min_samples_leaf': [1, 4]  # Only extremes\n",
    "}\n",
    "\n",
    "# Initialize the RandomForest classifier\n",
    "rf = RandomForestClassifier(random_state=42)\n",
    "\n",
    "# Initialize the GridSearchCV object\n",
    "grid_search_rf = GridSearchCV(estimator=rf, param_grid=param_grid_rf, cv=5, verbose=0)\n",
    "\n",
    "# Fit the grid search to the data\n",
    "grid_search_rf.fit(x_train, y_train)\n",
    "\n",
    "# Best parameter set found\n",
    "print(\"Best parameters found for the random forest classifier: \", grid_search_rf.best_params_)\n",
    "\n",
    "# Best estimator\n",
    "best_rf_classifier = grid_search_rf.best_estimator_\n",
    "\n",
    "# Load the original image\n",
    "image = Image.open('data1.png')\n",
    "width, height = image.size\n",
    "\n",
    "# Assuming functions to generate pixel coordinates and save data exist\n",
    "all_pixels = generate_pixel_coordinates()  # Assume this function exists\n",
    "\n",
    "# Predict the color for each pixel using the best classifier\n",
    "predicted_colors_rf = best_rf_classifier.predict(all_pixels)\n",
    "\n",
    "# Save or display the image from predicted colors\n",
    "save_data(all_pixels, predicted_colors_rf, 'optimized_rf_predicted_image1.png')  # Assume this function exists\n",
    "\n",
    "print(\"The predicted image has been saved as 'optimized_rf_predicted_image1.png'.\")"
   ]
  },
  {
   "cell_type": "markdown",
   "metadata": {},
   "source": [
    "<div style=\"text-align: center;\">\n",
    "    <img src=\"optimized_rf_predicted_image1.png\" alt=\"This image is not available\" style=\"height: 300px; display: block; margin: 0 auto;\">\n",
    "    <i>optimized_rf_predicted_image1.png</i>\n",
    "</div>"
   ]
  },
  {
   "cell_type": "markdown",
   "metadata": {},
   "source": [
    "<strong>13.</strong> Repeat all the steps from above for the second image (using the same classifiers as for the first image). Compare the results obtained with the same classifier for the linear and non-linear cases, respectively."
   ]
  },
  {
   "cell_type": "markdown",
   "metadata": {},
   "source": [
    "<strong>13.3.</strong> Split the first dataset into a training set and a test set (using 70% for training and 30% for validation)"
   ]
  },
  {
   "cell_type": "code",
   "execution_count": 36,
   "metadata": {},
   "outputs": [],
   "source": [
    "import numpy as np\n",
    "from sklearn.model_selection import train_test_split\n",
    "\n",
    "# Assuming data1 contains two lists: x (coordinates) and y (color values)\n",
    "x_data2, y_data2 = data2\n",
    "\n",
    "# Convert lists to numpy arrays for easier manipulation\n",
    "x_data2 = np.array(x_data2)\n",
    "y_data2 = np.array(y_data2)\n",
    "\n",
    "# Split the data into 70% training and 30% testing\n",
    "x_train, x_test, y_train, y_test = train_test_split(x_data2, y_data2, test_size=0.3, random_state=42)\n",
    "\n",
    "# x_train and y_train are the training set\n",
    "# x_test and y_test are the test set"
   ]
  },
  {
   "cell_type": "markdown",
   "metadata": {},
   "source": [
    "<strong>13.4.</strong> Choose a classifier in category a) and train it on the training set generated in step 13.3."
   ]
  },
  {
   "cell_type": "code",
   "execution_count": 37,
   "metadata": {},
   "outputs": [
    {
     "data": {
      "text/html": [
       "<style>#sk-container-id-2 {\n",
       "  /* Definition of color scheme common for light and dark mode */\n",
       "  --sklearn-color-text: black;\n",
       "  --sklearn-color-line: gray;\n",
       "  /* Definition of color scheme for unfitted estimators */\n",
       "  --sklearn-color-unfitted-level-0: #fff5e6;\n",
       "  --sklearn-color-unfitted-level-1: #f6e4d2;\n",
       "  --sklearn-color-unfitted-level-2: #ffe0b3;\n",
       "  --sklearn-color-unfitted-level-3: chocolate;\n",
       "  /* Definition of color scheme for fitted estimators */\n",
       "  --sklearn-color-fitted-level-0: #f0f8ff;\n",
       "  --sklearn-color-fitted-level-1: #d4ebff;\n",
       "  --sklearn-color-fitted-level-2: #b3dbfd;\n",
       "  --sklearn-color-fitted-level-3: cornflowerblue;\n",
       "\n",
       "  /* Specific color for light theme */\n",
       "  --sklearn-color-text-on-default-background: var(--sg-text-color, var(--theme-code-foreground, var(--jp-content-font-color1, black)));\n",
       "  --sklearn-color-background: var(--sg-background-color, var(--theme-background, var(--jp-layout-color0, white)));\n",
       "  --sklearn-color-border-box: var(--sg-text-color, var(--theme-code-foreground, var(--jp-content-font-color1, black)));\n",
       "  --sklearn-color-icon: #696969;\n",
       "\n",
       "  @media (prefers-color-scheme: dark) {\n",
       "    /* Redefinition of color scheme for dark theme */\n",
       "    --sklearn-color-text-on-default-background: var(--sg-text-color, var(--theme-code-foreground, var(--jp-content-font-color1, white)));\n",
       "    --sklearn-color-background: var(--sg-background-color, var(--theme-background, var(--jp-layout-color0, #111)));\n",
       "    --sklearn-color-border-box: var(--sg-text-color, var(--theme-code-foreground, var(--jp-content-font-color1, white)));\n",
       "    --sklearn-color-icon: #878787;\n",
       "  }\n",
       "}\n",
       "\n",
       "#sk-container-id-2 {\n",
       "  color: var(--sklearn-color-text);\n",
       "}\n",
       "\n",
       "#sk-container-id-2 pre {\n",
       "  padding: 0;\n",
       "}\n",
       "\n",
       "#sk-container-id-2 input.sk-hidden--visually {\n",
       "  border: 0;\n",
       "  clip: rect(1px 1px 1px 1px);\n",
       "  clip: rect(1px, 1px, 1px, 1px);\n",
       "  height: 1px;\n",
       "  margin: -1px;\n",
       "  overflow: hidden;\n",
       "  padding: 0;\n",
       "  position: absolute;\n",
       "  width: 1px;\n",
       "}\n",
       "\n",
       "#sk-container-id-2 div.sk-dashed-wrapped {\n",
       "  border: 1px dashed var(--sklearn-color-line);\n",
       "  margin: 0 0.4em 0.5em 0.4em;\n",
       "  box-sizing: border-box;\n",
       "  padding-bottom: 0.4em;\n",
       "  background-color: var(--sklearn-color-background);\n",
       "}\n",
       "\n",
       "#sk-container-id-2 div.sk-container {\n",
       "  /* jupyter's `normalize.less` sets `[hidden] { display: none; }`\n",
       "     but bootstrap.min.css set `[hidden] { display: none !important; }`\n",
       "     so we also need the `!important` here to be able to override the\n",
       "     default hidden behavior on the sphinx rendered scikit-learn.org.\n",
       "     See: https://github.com/scikit-learn/scikit-learn/issues/21755 */\n",
       "  display: inline-block !important;\n",
       "  position: relative;\n",
       "}\n",
       "\n",
       "#sk-container-id-2 div.sk-text-repr-fallback {\n",
       "  display: none;\n",
       "}\n",
       "\n",
       "div.sk-parallel-item,\n",
       "div.sk-serial,\n",
       "div.sk-item {\n",
       "  /* draw centered vertical line to link estimators */\n",
       "  background-image: linear-gradient(var(--sklearn-color-text-on-default-background), var(--sklearn-color-text-on-default-background));\n",
       "  background-size: 2px 100%;\n",
       "  background-repeat: no-repeat;\n",
       "  background-position: center center;\n",
       "}\n",
       "\n",
       "/* Parallel-specific style estimator block */\n",
       "\n",
       "#sk-container-id-2 div.sk-parallel-item::after {\n",
       "  content: \"\";\n",
       "  width: 100%;\n",
       "  border-bottom: 2px solid var(--sklearn-color-text-on-default-background);\n",
       "  flex-grow: 1;\n",
       "}\n",
       "\n",
       "#sk-container-id-2 div.sk-parallel {\n",
       "  display: flex;\n",
       "  align-items: stretch;\n",
       "  justify-content: center;\n",
       "  background-color: var(--sklearn-color-background);\n",
       "  position: relative;\n",
       "}\n",
       "\n",
       "#sk-container-id-2 div.sk-parallel-item {\n",
       "  display: flex;\n",
       "  flex-direction: column;\n",
       "}\n",
       "\n",
       "#sk-container-id-2 div.sk-parallel-item:first-child::after {\n",
       "  align-self: flex-end;\n",
       "  width: 50%;\n",
       "}\n",
       "\n",
       "#sk-container-id-2 div.sk-parallel-item:last-child::after {\n",
       "  align-self: flex-start;\n",
       "  width: 50%;\n",
       "}\n",
       "\n",
       "#sk-container-id-2 div.sk-parallel-item:only-child::after {\n",
       "  width: 0;\n",
       "}\n",
       "\n",
       "/* Serial-specific style estimator block */\n",
       "\n",
       "#sk-container-id-2 div.sk-serial {\n",
       "  display: flex;\n",
       "  flex-direction: column;\n",
       "  align-items: center;\n",
       "  background-color: var(--sklearn-color-background);\n",
       "  padding-right: 1em;\n",
       "  padding-left: 1em;\n",
       "}\n",
       "\n",
       "\n",
       "/* Toggleable style: style used for estimator/Pipeline/ColumnTransformer box that is\n",
       "clickable and can be expanded/collapsed.\n",
       "- Pipeline and ColumnTransformer use this feature and define the default style\n",
       "- Estimators will overwrite some part of the style using the `sk-estimator` class\n",
       "*/\n",
       "\n",
       "/* Pipeline and ColumnTransformer style (default) */\n",
       "\n",
       "#sk-container-id-2 div.sk-toggleable {\n",
       "  /* Default theme specific background. It is overwritten whether we have a\n",
       "  specific estimator or a Pipeline/ColumnTransformer */\n",
       "  background-color: var(--sklearn-color-background);\n",
       "}\n",
       "\n",
       "/* Toggleable label */\n",
       "#sk-container-id-2 label.sk-toggleable__label {\n",
       "  cursor: pointer;\n",
       "  display: block;\n",
       "  width: 100%;\n",
       "  margin-bottom: 0;\n",
       "  padding: 0.5em;\n",
       "  box-sizing: border-box;\n",
       "  text-align: center;\n",
       "}\n",
       "\n",
       "#sk-container-id-2 label.sk-toggleable__label-arrow:before {\n",
       "  /* Arrow on the left of the label */\n",
       "  content: \"▸\";\n",
       "  float: left;\n",
       "  margin-right: 0.25em;\n",
       "  color: var(--sklearn-color-icon);\n",
       "}\n",
       "\n",
       "#sk-container-id-2 label.sk-toggleable__label-arrow:hover:before {\n",
       "  color: var(--sklearn-color-text);\n",
       "}\n",
       "\n",
       "/* Toggleable content - dropdown */\n",
       "\n",
       "#sk-container-id-2 div.sk-toggleable__content {\n",
       "  max-height: 0;\n",
       "  max-width: 0;\n",
       "  overflow: hidden;\n",
       "  text-align: left;\n",
       "  /* unfitted */\n",
       "  background-color: var(--sklearn-color-unfitted-level-0);\n",
       "}\n",
       "\n",
       "#sk-container-id-2 div.sk-toggleable__content.fitted {\n",
       "  /* fitted */\n",
       "  background-color: var(--sklearn-color-fitted-level-0);\n",
       "}\n",
       "\n",
       "#sk-container-id-2 div.sk-toggleable__content pre {\n",
       "  margin: 0.2em;\n",
       "  border-radius: 0.25em;\n",
       "  color: var(--sklearn-color-text);\n",
       "  /* unfitted */\n",
       "  background-color: var(--sklearn-color-unfitted-level-0);\n",
       "}\n",
       "\n",
       "#sk-container-id-2 div.sk-toggleable__content.fitted pre {\n",
       "  /* unfitted */\n",
       "  background-color: var(--sklearn-color-fitted-level-0);\n",
       "}\n",
       "\n",
       "#sk-container-id-2 input.sk-toggleable__control:checked~div.sk-toggleable__content {\n",
       "  /* Expand drop-down */\n",
       "  max-height: 200px;\n",
       "  max-width: 100%;\n",
       "  overflow: auto;\n",
       "}\n",
       "\n",
       "#sk-container-id-2 input.sk-toggleable__control:checked~label.sk-toggleable__label-arrow:before {\n",
       "  content: \"▾\";\n",
       "}\n",
       "\n",
       "/* Pipeline/ColumnTransformer-specific style */\n",
       "\n",
       "#sk-container-id-2 div.sk-label input.sk-toggleable__control:checked~label.sk-toggleable__label {\n",
       "  color: var(--sklearn-color-text);\n",
       "  background-color: var(--sklearn-color-unfitted-level-2);\n",
       "}\n",
       "\n",
       "#sk-container-id-2 div.sk-label.fitted input.sk-toggleable__control:checked~label.sk-toggleable__label {\n",
       "  background-color: var(--sklearn-color-fitted-level-2);\n",
       "}\n",
       "\n",
       "/* Estimator-specific style */\n",
       "\n",
       "/* Colorize estimator box */\n",
       "#sk-container-id-2 div.sk-estimator input.sk-toggleable__control:checked~label.sk-toggleable__label {\n",
       "  /* unfitted */\n",
       "  background-color: var(--sklearn-color-unfitted-level-2);\n",
       "}\n",
       "\n",
       "#sk-container-id-2 div.sk-estimator.fitted input.sk-toggleable__control:checked~label.sk-toggleable__label {\n",
       "  /* fitted */\n",
       "  background-color: var(--sklearn-color-fitted-level-2);\n",
       "}\n",
       "\n",
       "#sk-container-id-2 div.sk-label label.sk-toggleable__label,\n",
       "#sk-container-id-2 div.sk-label label {\n",
       "  /* The background is the default theme color */\n",
       "  color: var(--sklearn-color-text-on-default-background);\n",
       "}\n",
       "\n",
       "/* On hover, darken the color of the background */\n",
       "#sk-container-id-2 div.sk-label:hover label.sk-toggleable__label {\n",
       "  color: var(--sklearn-color-text);\n",
       "  background-color: var(--sklearn-color-unfitted-level-2);\n",
       "}\n",
       "\n",
       "/* Label box, darken color on hover, fitted */\n",
       "#sk-container-id-2 div.sk-label.fitted:hover label.sk-toggleable__label.fitted {\n",
       "  color: var(--sklearn-color-text);\n",
       "  background-color: var(--sklearn-color-fitted-level-2);\n",
       "}\n",
       "\n",
       "/* Estimator label */\n",
       "\n",
       "#sk-container-id-2 div.sk-label label {\n",
       "  font-family: monospace;\n",
       "  font-weight: bold;\n",
       "  display: inline-block;\n",
       "  line-height: 1.2em;\n",
       "}\n",
       "\n",
       "#sk-container-id-2 div.sk-label-container {\n",
       "  text-align: center;\n",
       "}\n",
       "\n",
       "/* Estimator-specific */\n",
       "#sk-container-id-2 div.sk-estimator {\n",
       "  font-family: monospace;\n",
       "  border: 1px dotted var(--sklearn-color-border-box);\n",
       "  border-radius: 0.25em;\n",
       "  box-sizing: border-box;\n",
       "  margin-bottom: 0.5em;\n",
       "  /* unfitted */\n",
       "  background-color: var(--sklearn-color-unfitted-level-0);\n",
       "}\n",
       "\n",
       "#sk-container-id-2 div.sk-estimator.fitted {\n",
       "  /* fitted */\n",
       "  background-color: var(--sklearn-color-fitted-level-0);\n",
       "}\n",
       "\n",
       "/* on hover */\n",
       "#sk-container-id-2 div.sk-estimator:hover {\n",
       "  /* unfitted */\n",
       "  background-color: var(--sklearn-color-unfitted-level-2);\n",
       "}\n",
       "\n",
       "#sk-container-id-2 div.sk-estimator.fitted:hover {\n",
       "  /* fitted */\n",
       "  background-color: var(--sklearn-color-fitted-level-2);\n",
       "}\n",
       "\n",
       "/* Specification for estimator info (e.g. \"i\" and \"?\") */\n",
       "\n",
       "/* Common style for \"i\" and \"?\" */\n",
       "\n",
       ".sk-estimator-doc-link,\n",
       "a:link.sk-estimator-doc-link,\n",
       "a:visited.sk-estimator-doc-link {\n",
       "  float: right;\n",
       "  font-size: smaller;\n",
       "  line-height: 1em;\n",
       "  font-family: monospace;\n",
       "  background-color: var(--sklearn-color-background);\n",
       "  border-radius: 1em;\n",
       "  height: 1em;\n",
       "  width: 1em;\n",
       "  text-decoration: none !important;\n",
       "  margin-left: 1ex;\n",
       "  /* unfitted */\n",
       "  border: var(--sklearn-color-unfitted-level-1) 1pt solid;\n",
       "  color: var(--sklearn-color-unfitted-level-1);\n",
       "}\n",
       "\n",
       ".sk-estimator-doc-link.fitted,\n",
       "a:link.sk-estimator-doc-link.fitted,\n",
       "a:visited.sk-estimator-doc-link.fitted {\n",
       "  /* fitted */\n",
       "  border: var(--sklearn-color-fitted-level-1) 1pt solid;\n",
       "  color: var(--sklearn-color-fitted-level-1);\n",
       "}\n",
       "\n",
       "/* On hover */\n",
       "div.sk-estimator:hover .sk-estimator-doc-link:hover,\n",
       ".sk-estimator-doc-link:hover,\n",
       "div.sk-label-container:hover .sk-estimator-doc-link:hover,\n",
       ".sk-estimator-doc-link:hover {\n",
       "  /* unfitted */\n",
       "  background-color: var(--sklearn-color-unfitted-level-3);\n",
       "  color: var(--sklearn-color-background);\n",
       "  text-decoration: none;\n",
       "}\n",
       "\n",
       "div.sk-estimator.fitted:hover .sk-estimator-doc-link.fitted:hover,\n",
       ".sk-estimator-doc-link.fitted:hover,\n",
       "div.sk-label-container:hover .sk-estimator-doc-link.fitted:hover,\n",
       ".sk-estimator-doc-link.fitted:hover {\n",
       "  /* fitted */\n",
       "  background-color: var(--sklearn-color-fitted-level-3);\n",
       "  color: var(--sklearn-color-background);\n",
       "  text-decoration: none;\n",
       "}\n",
       "\n",
       "/* Span, style for the box shown on hovering the info icon */\n",
       ".sk-estimator-doc-link span {\n",
       "  display: none;\n",
       "  z-index: 9999;\n",
       "  position: relative;\n",
       "  font-weight: normal;\n",
       "  right: .2ex;\n",
       "  padding: .5ex;\n",
       "  margin: .5ex;\n",
       "  width: min-content;\n",
       "  min-width: 20ex;\n",
       "  max-width: 50ex;\n",
       "  color: var(--sklearn-color-text);\n",
       "  box-shadow: 2pt 2pt 4pt #999;\n",
       "  /* unfitted */\n",
       "  background: var(--sklearn-color-unfitted-level-0);\n",
       "  border: .5pt solid var(--sklearn-color-unfitted-level-3);\n",
       "}\n",
       "\n",
       ".sk-estimator-doc-link.fitted span {\n",
       "  /* fitted */\n",
       "  background: var(--sklearn-color-fitted-level-0);\n",
       "  border: var(--sklearn-color-fitted-level-3);\n",
       "}\n",
       "\n",
       ".sk-estimator-doc-link:hover span {\n",
       "  display: block;\n",
       "}\n",
       "\n",
       "/* \"?\"-specific style due to the `<a>` HTML tag */\n",
       "\n",
       "#sk-container-id-2 a.estimator_doc_link {\n",
       "  float: right;\n",
       "  font-size: 1rem;\n",
       "  line-height: 1em;\n",
       "  font-family: monospace;\n",
       "  background-color: var(--sklearn-color-background);\n",
       "  border-radius: 1rem;\n",
       "  height: 1rem;\n",
       "  width: 1rem;\n",
       "  text-decoration: none;\n",
       "  /* unfitted */\n",
       "  color: var(--sklearn-color-unfitted-level-1);\n",
       "  border: var(--sklearn-color-unfitted-level-1) 1pt solid;\n",
       "}\n",
       "\n",
       "#sk-container-id-2 a.estimator_doc_link.fitted {\n",
       "  /* fitted */\n",
       "  border: var(--sklearn-color-fitted-level-1) 1pt solid;\n",
       "  color: var(--sklearn-color-fitted-level-1);\n",
       "}\n",
       "\n",
       "/* On hover */\n",
       "#sk-container-id-2 a.estimator_doc_link:hover {\n",
       "  /* unfitted */\n",
       "  background-color: var(--sklearn-color-unfitted-level-3);\n",
       "  color: var(--sklearn-color-background);\n",
       "  text-decoration: none;\n",
       "}\n",
       "\n",
       "#sk-container-id-2 a.estimator_doc_link.fitted:hover {\n",
       "  /* fitted */\n",
       "  background-color: var(--sklearn-color-fitted-level-3);\n",
       "}\n",
       "</style><div id=\"sk-container-id-2\" class=\"sk-top-container\"><div class=\"sk-text-repr-fallback\"><pre>DecisionTreeClassifier(random_state=42)</pre><b>In a Jupyter environment, please rerun this cell to show the HTML representation or trust the notebook. <br />On GitHub, the HTML representation is unable to render, please try loading this page with nbviewer.org.</b></div><div class=\"sk-container\" hidden><div class=\"sk-item\"><div class=\"sk-estimator fitted sk-toggleable\"><input class=\"sk-toggleable__control sk-hidden--visually\" id=\"sk-estimator-id-2\" type=\"checkbox\" checked><label for=\"sk-estimator-id-2\" class=\"sk-toggleable__label fitted sk-toggleable__label-arrow fitted\">&nbsp;&nbsp;DecisionTreeClassifier<a class=\"sk-estimator-doc-link fitted\" rel=\"noreferrer\" target=\"_blank\" href=\"https://scikit-learn.org/1.5/modules/generated/sklearn.tree.DecisionTreeClassifier.html\">?<span>Documentation for DecisionTreeClassifier</span></a><span class=\"sk-estimator-doc-link fitted\">i<span>Fitted</span></span></label><div class=\"sk-toggleable__content fitted\"><pre>DecisionTreeClassifier(random_state=42)</pre></div> </div></div></div></div>"
      ],
      "text/plain": [
       "DecisionTreeClassifier(random_state=42)"
      ]
     },
     "execution_count": 37,
     "metadata": {},
     "output_type": "execute_result"
    }
   ],
   "source": [
    "from sklearn.tree import DecisionTreeClassifier\n",
    "from sklearn.metrics import accuracy_score, classification_report\n",
    "\n",
    "# Initialize the Decision Tree Classifier\n",
    "clf = DecisionTreeClassifier(random_state=42)\n",
    "\n",
    "# Train the classifier on the training data\n",
    "clf.fit(x_train, y_train)"
   ]
  },
  {
   "cell_type": "markdown",
   "metadata": {},
   "source": [
    "<strong>13.5.</strong> Use the classifier trained in step 13.4 to make predictions on the test set generated in step 13.3."
   ]
  },
  {
   "cell_type": "code",
   "execution_count": 38,
   "metadata": {},
   "outputs": [],
   "source": [
    "# Predict on the test set\n",
    "y_pred = clf.predict(x_test)"
   ]
  },
  {
   "cell_type": "markdown",
   "metadata": {},
   "source": [
    "<strong>13.6.</strong> Compute the accuracy of the classifier on the test set generated in step 13.3 and then, on the train test. Discuss the results."
   ]
  },
  {
   "cell_type": "code",
   "execution_count": 39,
   "metadata": {},
   "outputs": [
    {
     "name": "stdout",
     "output_type": "stream",
     "text": [
      "Test Accuracy: 1.00\n",
      "Train Accuracy: 1.00\n"
     ]
    }
   ],
   "source": [
    "# Compute accuracy on the test set\n",
    "test_accuracy = accuracy_score(y_test, y_pred)\n",
    "\n",
    "# Compute accuracy on the training set\n",
    "y_train_pred = clf.predict(x_train)\n",
    "train_accuracy = accuracy_score(y_train, y_train_pred)\n",
    "\n",
    "# Display the results\n",
    "print(f\"Test Accuracy: {test_accuracy:.2f}\")\n",
    "print(f\"Train Accuracy: {train_accuracy:.2f}\")"
   ]
  },
  {
   "cell_type": "markdown",
   "metadata": {},
   "source": [
    "<strong>13.7.</strong> Compute precision and recall of the classifier on the test set generated in step 13.3 and save to file or display the results. Define (theoretically) precision and recall. Discuss the results."
   ]
  },
  {
   "cell_type": "code",
   "execution_count": 40,
   "metadata": {},
   "outputs": [
    {
     "name": "stdout",
     "output_type": "stream",
     "text": [
      "Precision: 1.00\n",
      "Recall: 1.00\n"
     ]
    }
   ],
   "source": [
    "from sklearn.metrics import precision_score, recall_score\n",
    "\n",
    "# Calculate precision\n",
    "precision = precision_score(y_test, y_pred, average='weighted')\n",
    "\n",
    "# Calculate recall\n",
    "recall = recall_score(y_test, y_pred, average='weighted')\n",
    "\n",
    "# Display results\n",
    "print(f\"Precision: {precision:.2f}\")\n",
    "print(f\"Recall: {recall:.2f}\")"
   ]
  },
  {
   "cell_type": "markdown",
   "metadata": {},
   "source": [
    "<strong>13.8.</strong> Predict the color for all the pixels of the first image and save the predicted colors to a new image using the code below (Partial code given. Must be completed). Be able to explain the code below. "
   ]
  },
  {
   "cell_type": "code",
   "execution_count": 41,
   "metadata": {},
   "outputs": [
    {
     "name": "stdout",
     "output_type": "stream",
     "text": [
      "The predicted image has been saved as 'dt_predicted_image2.png'.\n"
     ]
    }
   ],
   "source": [
    "# Load the original image\n",
    "image = Image.open('data2.png')\n",
    "width, height = image.size\n",
    "\n",
    "# Generate pixel coordinates for the entire image\n",
    "all_pixels = generate_pixel_coordinates()\n",
    "\n",
    "# Predict the color for each pixel using the trained classifier\n",
    "predicted_colors = clf.predict(all_pixels)\n",
    "\n",
    "# Save the predicted colors to a new image\n",
    "save_data(all_pixels, predicted_colors, 'dt_predicted_image2.png')\n",
    "\n",
    "print(\"The predicted image has been saved as 'dt_predicted_image2.png'.\")"
   ]
  },
  {
   "cell_type": "markdown",
   "metadata": {},
   "source": [
    "<div style=\"text-align: center;\">\n",
    "    <img src=\"dt_predicted_image2.png\" alt=\"This image is not available\" style=\"height: 300px; display: block; margin: 0 auto;\">\n",
    "    <i>dt_predicted_image2.png</i>\n",
    "</div>"
   ]
  },
  {
   "cell_type": "markdown",
   "metadata": {},
   "source": [
    "<strong>13.9.</strong> Use the k-fold cross-validation, with different values of k, for evaluating the model (e.g. k=3,5,10). Compute the cross-validation accurracy and the mean accurracy. Report results for all runs and compare them with the accuracy obtained in the Step 13.6."
   ]
  },
  {
   "cell_type": "code",
   "execution_count": 42,
   "metadata": {},
   "outputs": [
    {
     "name": "stdout",
     "output_type": "stream",
     "text": [
      "Results for k=3:\n",
      "Cross-validation accuracies: [0.61595547 0.73630455 0.58681523]\n",
      "Mean accuracy: 0.65\n",
      "\n",
      "Results for k=5:\n",
      "Cross-validation accuracies: [0.65069552 0.78516229 0.77708978 0.78482972 0.70743034]\n",
      "Mean accuracy: 0.74\n",
      "\n",
      "Results for k=10:\n",
      "Cross-validation accuracies: [0.66666667 0.44444444 0.95665635 0.3869969  0.59752322 1.\n",
      " 0.82972136 1.         0.65944272 0.54179567]\n",
      "Mean accuracy: 0.71\n",
      "\n"
     ]
    }
   ],
   "source": [
    "from sklearn.model_selection import cross_val_score\n",
    "\n",
    "# List of different values of k for k-fold cross-validation\n",
    "k_values = [3, 5, 10]\n",
    "\n",
    "# Dictionary to store the cross-validation results\n",
    "cv_results = {}\n",
    "\n",
    "# Perform k-fold cross-validation for each k value\n",
    "for k in k_values:\n",
    "    # Initialize the k-fold cross-validation method\n",
    "    scores = cross_val_score(clf, x_data2, y_data2, cv=k)\n",
    "    \n",
    "    # Store the scores and calculate the mean accuracy\n",
    "    cv_results[k] = {\n",
    "        \"scores\": scores,\n",
    "        \"mean_accuracy\": scores.mean()\n",
    "    }\n",
    "\n",
    "    # Print the results for each k\n",
    "    print(f\"Results for k={k}:\")\n",
    "    print(f\"Cross-validation accuracies: {scores}\")\n",
    "    print(f\"Mean accuracy: {scores.mean():.2f}\")\n",
    "    print()"
   ]
  },
  {
   "cell_type": "markdown",
   "metadata": {},
   "source": [
    "<strong>13.10.</strong> Repeat steps 13.3-13.9 for the second and third classifier."
   ]
  },
  {
   "cell_type": "markdown",
   "metadata": {},
   "source": [
    "# SVM"
   ]
  },
  {
   "cell_type": "markdown",
   "metadata": {},
   "source": [
    "Choose a classifier in category b) and train it on the training set generated in step 13.3."
   ]
  },
  {
   "cell_type": "code",
   "execution_count": 43,
   "metadata": {},
   "outputs": [
    {
     "name": "stdout",
     "output_type": "stream",
     "text": [
      "SVM Classifier has been successfully trained.\n"
     ]
    }
   ],
   "source": [
    "from sklearn.svm import SVC\n",
    "\n",
    "# Initialize the SVM classifier\n",
    "svm_classifier = SVC()\n",
    "\n",
    "# Train the classifier on the training data\n",
    "svm_classifier.fit(x_train, y_train)\n",
    "\n",
    "print(\"SVM Classifier has been successfully trained.\")"
   ]
  },
  {
   "cell_type": "markdown",
   "metadata": {},
   "source": [
    "Use the classifier trained in the previous step to make predictions on the test set generated in step 13.3."
   ]
  },
  {
   "cell_type": "code",
   "execution_count": 44,
   "metadata": {},
   "outputs": [],
   "source": [
    "# Predict the labels for the test data\n",
    "y_pred_svm = svm_classifier.predict(x_test)"
   ]
  },
  {
   "cell_type": "markdown",
   "metadata": {},
   "source": [
    "Compute the accuracy of the classifier on the test set generated in step 13.3 and then, on the train test. Discuss the results."
   ]
  },
  {
   "cell_type": "code",
   "execution_count": 45,
   "metadata": {},
   "outputs": [
    {
     "name": "stdout",
     "output_type": "stream",
     "text": [
      "Test Accuracy: 0.77\n",
      "Train Accuracy: 0.78\n"
     ]
    }
   ],
   "source": [
    "from sklearn.metrics import accuracy_score\n",
    "\n",
    "# Compute accuracy on the test set\n",
    "test_accuracy_svm = accuracy_score(y_test, y_pred_svm)\n",
    "print(f\"Test Accuracy: {test_accuracy_svm:.2f}\")\n",
    "\n",
    "# Predict on the training set\n",
    "y_train_pred_svm = svm_classifier.predict(x_train)\n",
    "\n",
    "# Compute accuracy on the training set\n",
    "train_accuracy_svm = accuracy_score(y_train, y_train_pred_svm)\n",
    "print(f\"Train Accuracy: {train_accuracy_svm:.2f}\")"
   ]
  },
  {
   "cell_type": "markdown",
   "metadata": {},
   "source": [
    "Compute precision and recall of the classifier on the test set generated in step 13.3 and save to file or display the results. Define (theoretically) precision and recall. Discuss the results."
   ]
  },
  {
   "cell_type": "code",
   "execution_count": 46,
   "metadata": {},
   "outputs": [
    {
     "name": "stdout",
     "output_type": "stream",
     "text": [
      "Precision: 0.78\n",
      "Recall: 0.77\n"
     ]
    }
   ],
   "source": [
    "from sklearn.metrics import precision_score, recall_score\n",
    "\n",
    "# Compute precision\n",
    "precision_svm = precision_score(y_test, y_pred_svm, average='weighted')\n",
    "\n",
    "# Compute recall\n",
    "recall_svm = recall_score(y_test, y_pred_svm, average='weighted')\n",
    "\n",
    "# Display the results\n",
    "print(f\"Precision: {precision_svm:.2f}\")\n",
    "print(f\"Recall: {recall_svm:.2f}\")"
   ]
  },
  {
   "cell_type": "markdown",
   "metadata": {},
   "source": [
    "Predict the color for all the pixels of the first image and save the predicted colors to a new image. Be able to explain the code below."
   ]
  },
  {
   "cell_type": "code",
   "execution_count": 47,
   "metadata": {},
   "outputs": [
    {
     "name": "stdout",
     "output_type": "stream",
     "text": [
      "The predicted image has been saved as 'svm_predicted_image2.png'.\n"
     ]
    }
   ],
   "source": [
    "# Load the original image\n",
    "image = Image.open('data2.png')\n",
    "width, height = image.size\n",
    "\n",
    "# Generate pixel coordinates for the entire image\n",
    "all_pixels = generate_pixel_coordinates()\n",
    "\n",
    "# Predict the color for each pixel using the trained classifier\n",
    "predicted_colors = svm_classifier.predict(all_pixels)\n",
    "\n",
    "# Save the predicted colors to a new image\n",
    "save_data(all_pixels, predicted_colors, 'svm_predicted_image2.png')\n",
    "\n",
    "print(\"The predicted image has been saved as 'svm_predicted_image2.png'.\")"
   ]
  },
  {
   "cell_type": "markdown",
   "metadata": {},
   "source": [
    "<div style=\"text-align: center;\">\n",
    "    <img src=\"svm_predicted_image2.png\" alt=\"This image is not available\" style=\"height: 300px; display: block; margin: 0 auto;\">\n",
    "    <i>svm_predicted_image2.png</i>\n",
    "</div>"
   ]
  },
  {
   "cell_type": "markdown",
   "metadata": {},
   "source": [
    "Use the k-fold cross-validation, with different values of k, for evaluating the model (e.g. k=3,5,10). Compute the cross-validation accurracy and the mean accurracy. Report results for all runs and compare them with the accuracy obtained for SVM."
   ]
  },
  {
   "cell_type": "code",
   "execution_count": 48,
   "metadata": {},
   "outputs": [
    {
     "name": "stdout",
     "output_type": "stream",
     "text": [
      "Results for k=3:\n",
      "Cross-validation accuracies: [0.67625232 0.63324048 0.5821727 ]\n",
      "Mean accuracy: 0.63\n",
      "\n",
      "Results for k=5:\n",
      "Cross-validation accuracies: [0.5935085  0.62751159 0.7120743  0.57739938 0.64396285]\n",
      "Mean accuracy: 0.63\n",
      "\n",
      "Results for k=10:\n",
      "Cross-validation accuracies: [0.53703704 0.72530864 0.73684211 0.55108359 0.55417957 0.73993808\n",
      " 0.55417957 0.79256966 0.78328173 0.53560372]\n",
      "Mean accuracy: 0.65\n",
      "\n"
     ]
    }
   ],
   "source": [
    "from sklearn.model_selection import cross_val_score\n",
    "\n",
    "# List of different values of k for k-fold cross-validation\n",
    "k_values = [3, 5, 10]\n",
    "\n",
    "# Dictionary to store the cross-validation results\n",
    "cv_results = {}\n",
    "\n",
    "# Perform k-fold cross-validation for each k value\n",
    "for k in k_values:\n",
    "    # Initialize the k-fold cross-validation method\n",
    "    scores = cross_val_score(svm_classifier, x_data2, y_data2, cv=k)\n",
    "    \n",
    "    # Store the scores and calculate the mean accuracy\n",
    "    cv_results[k] = {\n",
    "        \"scores\": scores,\n",
    "        \"mean_accuracy\": scores.mean()\n",
    "    }\n",
    "\n",
    "    # Print the results for each k\n",
    "    print(f\"Results for k={k}:\")\n",
    "    print(f\"Cross-validation accuracies: {scores}\")\n",
    "    print(f\"Mean accuracy: {scores.mean():.2f}\")\n",
    "    print()"
   ]
  },
  {
   "cell_type": "markdown",
   "metadata": {},
   "source": [
    "# Random forest"
   ]
  },
  {
   "cell_type": "markdown",
   "metadata": {},
   "source": [
    "Choose a classifier in category c) and train it on the training set generated in step 13.3."
   ]
  },
  {
   "cell_type": "code",
   "execution_count": 49,
   "metadata": {},
   "outputs": [
    {
     "name": "stdout",
     "output_type": "stream",
     "text": [
      "Random Forest Classifier has been successfully trained.\n"
     ]
    }
   ],
   "source": [
    "from sklearn.ensemble import RandomForestClassifier\n",
    "\n",
    "# Initialize the Random Forest classifier\n",
    "rf_classifier = RandomForestClassifier(n_estimators=100, random_state=42)\n",
    "\n",
    "# Train the classifier on the training data\n",
    "rf_classifier.fit(x_train, y_train)\n",
    "\n",
    "print(\"Random Forest Classifier has been successfully trained.\")"
   ]
  },
  {
   "cell_type": "markdown",
   "metadata": {},
   "source": [
    "Use the classifier trained in the previous step to make predictions on the test set generated in step 13.3."
   ]
  },
  {
   "cell_type": "code",
   "execution_count": 50,
   "metadata": {},
   "outputs": [],
   "source": [
    "# Predict the labels for the test data\n",
    "y_pred_rf = rf_classifier.predict(x_test)"
   ]
  },
  {
   "cell_type": "markdown",
   "metadata": {},
   "source": [
    "Compute the accuracy of the classifier on the test set generated in step 13.3 and then, on the train test. Discuss the results."
   ]
  },
  {
   "cell_type": "code",
   "execution_count": 51,
   "metadata": {},
   "outputs": [
    {
     "name": "stdout",
     "output_type": "stream",
     "text": [
      "Test Accuracy: 1.00\n",
      "Train Accuracy: 1.00\n"
     ]
    }
   ],
   "source": [
    "from sklearn.metrics import accuracy_score\n",
    "\n",
    "# Compute accuracy on the test set\n",
    "test_accuracy_rf = accuracy_score(y_test, y_pred_rf)\n",
    "print(f\"Test Accuracy: {test_accuracy_rf:.2f}\")\n",
    "\n",
    "# Predict on the training set\n",
    "y_train_pred_rf = rf_classifier.predict(x_train)\n",
    "\n",
    "# Compute accuracy on the training set\n",
    "train_accuracy_rf = accuracy_score(y_train, y_train_pred_rf)\n",
    "print(f\"Train Accuracy: {train_accuracy_rf:.2f}\")"
   ]
  },
  {
   "cell_type": "markdown",
   "metadata": {},
   "source": [
    "Compute precision and recall of the classifier on the test set generated in step 13.3 and save to file or display the results. Define (theoretically) precision and recall. Discuss the results."
   ]
  },
  {
   "cell_type": "code",
   "execution_count": 52,
   "metadata": {},
   "outputs": [
    {
     "name": "stdout",
     "output_type": "stream",
     "text": [
      "Precision: 1.00\n",
      "Recall: 1.00\n"
     ]
    }
   ],
   "source": [
    "from sklearn.metrics import precision_score, recall_score\n",
    "\n",
    "# Compute precision\n",
    "precision_rf = precision_score(y_test, y_pred_rf, average='weighted')\n",
    "\n",
    "# Compute recall\n",
    "recall_rf = recall_score(y_test, y_pred_rf, average='weighted')\n",
    "\n",
    "# Display the results\n",
    "print(f\"Precision: {precision_rf:.2f}\")\n",
    "print(f\"Recall: {recall_rf:.2f}\")"
   ]
  },
  {
   "cell_type": "markdown",
   "metadata": {},
   "source": [
    "Predict the color for all the pixels of the first image and save the predicted colors to a new image. Be able to explain the code below."
   ]
  },
  {
   "cell_type": "code",
   "execution_count": 53,
   "metadata": {},
   "outputs": [
    {
     "name": "stdout",
     "output_type": "stream",
     "text": [
      "The predicted image has been saved as 'rf_predicted_image2.png'.\n"
     ]
    }
   ],
   "source": [
    "# Load the original image\n",
    "image = Image.open('data2.png')\n",
    "width, height = image.size\n",
    "\n",
    "# Generate pixel coordinates for the entire image\n",
    "all_pixels = generate_pixel_coordinates()\n",
    "\n",
    "# Predict the color for each pixel using the trained classifier\n",
    "predicted_colors = rf_classifier.predict(all_pixels)\n",
    "\n",
    "# Save the predicted colors to a new image\n",
    "save_data(all_pixels, predicted_colors, 'rf_predicted_image2.png')\n",
    "\n",
    "print(\"The predicted image has been saved as 'rf_predicted_image2.png'.\")"
   ]
  },
  {
   "cell_type": "markdown",
   "metadata": {},
   "source": [
    "<div style=\"text-align: center;\">\n",
    "    <img src=\"rf_predicted_image2.png\" alt=\"This image is not available\" style=\"height: 300px; display: block; margin: 0 auto;\">\n",
    "    <i>rf_predicted_image2.png</i>\n",
    "</div>"
   ]
  },
  {
   "cell_type": "markdown",
   "metadata": {},
   "source": [
    "Use the k-fold cross-validation, with different values of k, for evaluating the model (e.g. k=3,5,10). Compute the cross-validation accurracy and the mean accurracy. Report results for all runs and compare them with the accuracy obtained for Random Forest."
   ]
  },
  {
   "cell_type": "code",
   "execution_count": 54,
   "metadata": {},
   "outputs": [
    {
     "name": "stdout",
     "output_type": "stream",
     "text": [
      "Results for k=3:\n",
      "Cross-validation accuracies: [0.54359926 0.71123491 0.58681523]\n",
      "Mean accuracy: 0.61\n",
      "\n",
      "Results for k=5:\n",
      "Cross-validation accuracies: [0.68315301 0.72642968 0.73065015 0.8126935  0.64396285]\n",
      "Mean accuracy: 0.72\n",
      "\n",
      "Results for k=10:\n",
      "Cross-validation accuracies: [0.58024691 0.54320988 0.74922601 0.74303406 0.57894737 0.91021672\n",
      " 0.73993808 0.88544892 0.75232198 0.54179567]\n",
      "Mean accuracy: 0.70\n",
      "\n"
     ]
    }
   ],
   "source": [
    "from sklearn.model_selection import cross_val_score\n",
    "\n",
    "# List of different values of k for k-fold cross-validation\n",
    "k_values = [3, 5, 10]\n",
    "\n",
    "# Dictionary to store the cross-validation results\n",
    "cv_results = {}\n",
    "\n",
    "# Perform k-fold cross-validation for each k value\n",
    "for k in k_values:\n",
    "    # Initialize the k-fold cross-validation method\n",
    "    scores = cross_val_score(rf_classifier, x_data2, y_data2, cv=k)\n",
    "    \n",
    "    # Store the scores and calculate the mean accuracy\n",
    "    cv_results[k] = {\n",
    "        \"scores\": scores,\n",
    "        \"mean_accuracy\": scores.mean()\n",
    "    }\n",
    "\n",
    "    # Print the results for each k\n",
    "    print(f\"Results for k={k}:\")\n",
    "    print(f\"Cross-validation accuracies: {scores}\")\n",
    "    print(f\"Mean accuracy: {scores.mean():.2f}\")\n",
    "    print()"
   ]
  },
  {
   "cell_type": "markdown",
   "metadata": {},
   "source": [
    "<strong>13.11.</strong> From scikit-learn study the documentation for the second classifier chosen, select two representative hyperparameters and repeat at least 2 times steps 13.4-13.8 for different values of these hyperparameters. Report results for all runs and compare them."
   ]
  },
  {
   "cell_type": "markdown",
   "metadata": {},
   "source": [
    "# C=0.01, kernel='linear'"
   ]
  },
  {
   "cell_type": "markdown",
   "metadata": {},
   "source": [
    "Choose a classifier in category b) and train it on the training set generated in step 13.3."
   ]
  },
  {
   "cell_type": "code",
   "execution_count": 55,
   "metadata": {},
   "outputs": [
    {
     "name": "stdout",
     "output_type": "stream",
     "text": [
      "SVM Classifier with C=0.01 and kernel='linear' has been successfully trained.\n"
     ]
    }
   ],
   "source": [
    "from sklearn.svm import SVC\n",
    "\n",
    "# Initialize the SVM classifier\n",
    "svm_classifier = SVC(C=0.01, kernel='linear')\n",
    "\n",
    "# Train the classifier on the training data\n",
    "svm_classifier.fit(x_train, y_train)\n",
    "\n",
    "print(\"SVM Classifier with C=0.01 and kernel='linear' has been successfully trained.\")"
   ]
  },
  {
   "cell_type": "markdown",
   "metadata": {},
   "source": [
    "Use the classifier trained in the previous step to make predictions on the test set generated in step 13.3."
   ]
  },
  {
   "cell_type": "code",
   "execution_count": 56,
   "metadata": {},
   "outputs": [],
   "source": [
    "# Predict the labels for the test data\n",
    "y_pred_svm = svm_classifier.predict(x_test)"
   ]
  },
  {
   "cell_type": "markdown",
   "metadata": {},
   "source": [
    "Compute the accuracy of the classifier on the test set generated in step 13.3 and then, on the train test. Discuss the results."
   ]
  },
  {
   "cell_type": "code",
   "execution_count": 57,
   "metadata": {},
   "outputs": [
    {
     "name": "stdout",
     "output_type": "stream",
     "text": [
      "Test Accuracy: 0.59\n",
      "Train Accuracy: 0.59\n"
     ]
    }
   ],
   "source": [
    "from sklearn.metrics import accuracy_score\n",
    "\n",
    "# Compute accuracy on the test set\n",
    "test_accuracy_svm = accuracy_score(y_test, y_pred_svm)\n",
    "print(f\"Test Accuracy: {test_accuracy_svm:.2f}\")\n",
    "\n",
    "# Predict on the training set\n",
    "y_train_pred_svm = svm_classifier.predict(x_train)\n",
    "\n",
    "# Compute accuracy on the training set\n",
    "train_accuracy_svm = accuracy_score(y_train, y_train_pred_svm)\n",
    "print(f\"Train Accuracy: {train_accuracy_svm:.2f}\")"
   ]
  },
  {
   "cell_type": "markdown",
   "metadata": {},
   "source": [
    "Compute precision and recall of the classifier on the test set generated in step 13.3 and save to file or display the results. Define (theoretically) precision and recall. Discuss the results."
   ]
  },
  {
   "cell_type": "code",
   "execution_count": 58,
   "metadata": {},
   "outputs": [
    {
     "name": "stdout",
     "output_type": "stream",
     "text": [
      "Precision: 0.61\n",
      "Recall: 0.59\n"
     ]
    }
   ],
   "source": [
    "from sklearn.metrics import precision_score, recall_score\n",
    "\n",
    "# Compute precision\n",
    "precision_svm = precision_score(y_test, y_pred_svm, average='weighted')\n",
    "\n",
    "# Compute recall\n",
    "recall_svm = recall_score(y_test, y_pred_svm, average='weighted')\n",
    "\n",
    "# Display the results\n",
    "print(f\"Precision: {precision_svm:.2f}\")\n",
    "print(f\"Recall: {recall_svm:.2f}\")"
   ]
  },
  {
   "cell_type": "markdown",
   "metadata": {},
   "source": [
    "Predict the color for all the pixels of the first image and save the predicted colors to a new image. Be able to explain the code below."
   ]
  },
  {
   "cell_type": "code",
   "execution_count": 59,
   "metadata": {},
   "outputs": [
    {
     "name": "stdout",
     "output_type": "stream",
     "text": [
      "The predicted image has been saved as 'svm_hyperparameters_config1_predicted_image2.png'.\n"
     ]
    }
   ],
   "source": [
    "# Load the original image\n",
    "image = Image.open('data2.png')\n",
    "width, height = image.size\n",
    "\n",
    "# Generate pixel coordinates for the entire image\n",
    "all_pixels = generate_pixel_coordinates()\n",
    "\n",
    "# Predict the color for each pixel using the trained classifier\n",
    "predicted_colors = svm_classifier.predict(all_pixels)\n",
    "\n",
    "# Save the predicted colors to a new image\n",
    "save_data(all_pixels, predicted_colors, 'svm_hyperparameters_config1_predicted_image2.png')\n",
    "\n",
    "print(\"The predicted image has been saved as 'svm_hyperparameters_config1_predicted_image2.png'.\")"
   ]
  },
  {
   "cell_type": "markdown",
   "metadata": {},
   "source": [
    "<div style=\"text-align: center;\">\n",
    "    <img src=\"svm_hyperparameters_config1_predicted_image2.png\" alt=\"This image is not available\" style=\"height: 300px; display: block; margin: 0 auto;\">\n",
    "    <i>svm_hyperparameters_config1_predicted_image2.png</i>\n",
    "</div>"
   ]
  },
  {
   "cell_type": "markdown",
   "metadata": {},
   "source": [
    "# C=100.0, kernel='rbf'"
   ]
  },
  {
   "cell_type": "markdown",
   "metadata": {},
   "source": [
    "Choose a classifier in category b) and train it on the training set generated in step 13.3."
   ]
  },
  {
   "cell_type": "code",
   "execution_count": 60,
   "metadata": {},
   "outputs": [
    {
     "name": "stdout",
     "output_type": "stream",
     "text": [
      "SVM Classifier with C=100.0 and kernel='rbf' has been successfully trained.\n"
     ]
    }
   ],
   "source": [
    "from sklearn.svm import SVC\n",
    "\n",
    "# Initialize the SVM classifier\n",
    "svm_classifier = SVC(C=100.0, kernel='rbf')\n",
    "\n",
    "# Train the classifier on the training data\n",
    "svm_classifier.fit(x_train, y_train)\n",
    "\n",
    "print(\"SVM Classifier with C=100.0 and kernel='rbf' has been successfully trained.\")"
   ]
  },
  {
   "cell_type": "markdown",
   "metadata": {},
   "source": [
    "Use the classifier trained in the previous step to make predictions on the test set generated in step 13.3."
   ]
  },
  {
   "cell_type": "code",
   "execution_count": 61,
   "metadata": {},
   "outputs": [],
   "source": [
    "# Predict the labels for the test data\n",
    "y_pred_svm = svm_classifier.predict(x_test)"
   ]
  },
  {
   "cell_type": "markdown",
   "metadata": {},
   "source": [
    "Compute the accuracy of the classifier on the test set generated in step 13.3 and then, on the train test. Discuss the results."
   ]
  },
  {
   "cell_type": "code",
   "execution_count": 62,
   "metadata": {},
   "outputs": [
    {
     "name": "stdout",
     "output_type": "stream",
     "text": [
      "Test Accuracy: 0.83\n",
      "Train Accuracy: 0.83\n"
     ]
    }
   ],
   "source": [
    "from sklearn.metrics import accuracy_score\n",
    "\n",
    "# Compute accuracy on the test set\n",
    "test_accuracy_svm = accuracy_score(y_test, y_pred_svm)\n",
    "print(f\"Test Accuracy: {test_accuracy_svm:.2f}\")\n",
    "\n",
    "# Predict on the training set\n",
    "y_train_pred_svm = svm_classifier.predict(x_train)\n",
    "\n",
    "# Compute accuracy on the training set\n",
    "train_accuracy_svm = accuracy_score(y_train, y_train_pred_svm)\n",
    "print(f\"Train Accuracy: {train_accuracy_svm:.2f}\")"
   ]
  },
  {
   "cell_type": "markdown",
   "metadata": {},
   "source": [
    "Compute precision and recall of the classifier on the test set generated in step 13.3 and save to file or display the results. Define (theoretically) precision and recall. Discuss the results."
   ]
  },
  {
   "cell_type": "code",
   "execution_count": 63,
   "metadata": {},
   "outputs": [
    {
     "name": "stdout",
     "output_type": "stream",
     "text": [
      "Precision: 0.84\n",
      "Recall: 0.83\n"
     ]
    }
   ],
   "source": [
    "from sklearn.metrics import precision_score, recall_score\n",
    "\n",
    "# Compute precision\n",
    "precision_svm = precision_score(y_test, y_pred_svm, average='weighted')\n",
    "\n",
    "# Compute recall\n",
    "recall_svm = recall_score(y_test, y_pred_svm, average='weighted')\n",
    "\n",
    "# Display the results\n",
    "print(f\"Precision: {precision_svm:.2f}\")\n",
    "print(f\"Recall: {recall_svm:.2f}\")"
   ]
  },
  {
   "cell_type": "markdown",
   "metadata": {},
   "source": [
    "Predict the color for all the pixels of the first image and save the predicted colors to a new image. Be able to explain the code below."
   ]
  },
  {
   "cell_type": "code",
   "execution_count": 64,
   "metadata": {},
   "outputs": [
    {
     "name": "stdout",
     "output_type": "stream",
     "text": [
      "The predicted image has been saved as 'svm_hyperparameters_config2_predicted_image2.png'.\n"
     ]
    }
   ],
   "source": [
    "# Load the original image\n",
    "image = Image.open('data2.png')\n",
    "width, height = image.size\n",
    "\n",
    "# Generate pixel coordinates for the entire image\n",
    "all_pixels = generate_pixel_coordinates()\n",
    "\n",
    "# Predict the color for each pixel using the trained classifier\n",
    "predicted_colors = svm_classifier.predict(all_pixels)\n",
    "\n",
    "# Save the predicted colors to a new image\n",
    "save_data(all_pixels, predicted_colors, 'svm_hyperparameters_config2_predicted_image2.png')\n",
    "\n",
    "print(\"The predicted image has been saved as 'svm_hyperparameters_config2_predicted_image2.png'.\")"
   ]
  },
  {
   "cell_type": "markdown",
   "metadata": {},
   "source": [
    "<div style=\"text-align: center;\">\n",
    "    <img src=\"svm_hyperparameters_config2_predicted_image2.png\" alt=\"This image is not available\" style=\"height: 300px; display: block; margin: 0 auto;\">\n",
    "    <i>svm_hyperparameters_config2_predicted_image2.png</i>\n",
    "</div>"
   ]
  },
  {
   "cell_type": "markdown",
   "metadata": {},
   "source": [
    "## Comparison "
   ]
  },
  {
   "cell_type": "markdown",
   "metadata": {},
   "source": [
    "<div style=\"display: flex; gap: 10px;\">\n",
    "  <div style=\"text-align: center;\">\n",
    "    <img src=\"svm_predicted_image2.png\" alt=\"This image is not available\" style=\"height: 300px;\">\n",
    "    <br>\n",
    "    <i>Default SVM</i>\n",
    "  </div>\n",
    "  <div style=\"text-align: center; margin-left: 100px;\">\n",
    "    <img src=\"svm_hyperparameters_config1_predicted_image2.png\" alt=\"This image is not available\" style=\"height: 300px;\">\n",
    "    <br>\n",
    "    <i>SVM with C=0.01 and kernel='linear'</i>\n",
    "  </div>\n",
    "  <div style=\"text-align: center; margin-left: 100px;\">\n",
    "    <img src=\"svm_hyperparameters_config2_predicted_image2.png\" alt=\"This image is not available\" style=\"height: 300px;\">\n",
    "    <br>\n",
    "    <i>SVM with C=100.0 and kernel='rbf'</i>\n",
    "  </div>\n",
    "</div>"
   ]
  },
  {
   "cell_type": "markdown",
   "metadata": {},
   "source": [
    "<strong>13.12.</strong> Use grid search cross validation for optimizing the hyperparameters of the classifiers (for model selection). Report the optimal parameters given by the search.  Predict the color for all the pixels of the first image using the model with optimal parameters. "
   ]
  },
  {
   "cell_type": "markdown",
   "metadata": {},
   "source": [
    "# Decision Tree Classifier - Optimizing Hyperparameters"
   ]
  },
  {
   "cell_type": "code",
   "execution_count": 65,
   "metadata": {},
   "outputs": [
    {
     "name": "stdout",
     "output_type": "stream",
     "text": [
      "Best parameters found for the decision tree clasifier:  {'max_depth': None, 'min_samples_leaf': 1, 'min_samples_split': 2}\n",
      "The predicted image has been saved as 'optimized_dt_predicted_image2.png'.\n"
     ]
    }
   ],
   "source": [
    "from sklearn.tree import DecisionTreeClassifier\n",
    "from sklearn.model_selection import GridSearchCV\n",
    "\n",
    "# Define the parameter grid\n",
    "param_grid = {\n",
    "    'max_depth': [None, 10, 20, 30, 40, 50],\n",
    "    'min_samples_split': [2, 10, 20],\n",
    "    'min_samples_leaf': [1, 5, 10]\n",
    "}\n",
    "\n",
    "# Initialize the Decision Tree classifier\n",
    "dt = DecisionTreeClassifier(random_state=42)\n",
    "\n",
    "# Initialize the GridSearchCV object\n",
    "grid_search_dt = GridSearchCV(estimator=dt, param_grid=param_grid, cv=5, verbose=0)\n",
    "\n",
    "# Fit the grid search to the data\n",
    "grid_search_dt.fit(x_train, y_train)\n",
    "\n",
    "# Best parameter set found\n",
    "print(\"Best parameters found for the decision tree clasifier: \", grid_search_dt.best_params_)\n",
    "\n",
    "# Best estimator\n",
    "best_dt_classifier = grid_search_dt.best_estimator_\n",
    "\n",
    "# Load the original image\n",
    "image = Image.open('data2.png')\n",
    "width, height = image.size\n",
    "\n",
    "# Assuming functions to generate pixel coordinates and save data\n",
    "all_pixels = generate_pixel_coordinates()  # Assume this function exists\n",
    "\n",
    "# Predict the color for each pixel using the best classifier\n",
    "predicted_colors_dt = best_dt_classifier.predict(all_pixels)\n",
    "\n",
    "# Save or display the image from predicted colors\n",
    "save_data(all_pixels, predicted_colors_dt, 'optimized_dt_predicted_image2.png')  # Assume this function exists\n",
    "\n",
    "print(\"The predicted image has been saved as 'optimized_dt_predicted_image2.png'.\")"
   ]
  },
  {
   "cell_type": "markdown",
   "metadata": {},
   "source": [
    "<div style=\"text-align: center;\">\n",
    "    <img src=\"optimized_dt_predicted_image2.png\" alt=\"This image is not available\" style=\"height: 300px; display: block; margin: 0 auto;\">\n",
    "    <i>optimized_dt_predicted_image2.png</i>\n",
    "</div>"
   ]
  },
  {
   "cell_type": "markdown",
   "metadata": {},
   "source": [
    "# SVM Classifier - Optimizing Hyperparameters"
   ]
  },
  {
   "cell_type": "code",
   "execution_count": 66,
   "metadata": {},
   "outputs": [
    {
     "name": "stdout",
     "output_type": "stream",
     "text": [
      "Best parameters found for the SVM classifier:  {'C': 1, 'gamma': 'auto', 'kernel': 'rbf'}\n",
      "The predicted image has been saved as 'optimized_svm_predicted_image2.png'.\n"
     ]
    }
   ],
   "source": [
    "from sklearn.model_selection import GridSearchCV\n",
    "from sklearn.svm import SVC\n",
    "\n",
    "# Define the parameter grid\n",
    "param_grid = {\n",
    "    'C': [1, 10],  # Reduced from [0.1, 1, 10, 100]\n",
    "    'kernel': ['rbf'],  # Focus on the 'rbf' kernel for non-linear separation\n",
    "    'gamma': ['scale', 'auto']  # Retain these options for comprehensive testing\n",
    "}\n",
    "\n",
    "# Initialize the SVM classifier\n",
    "svm = SVC()\n",
    "\n",
    "# Initialize the GridSearchCV object\n",
    "grid_search = GridSearchCV(estimator=svm, param_grid=param_grid, cv=5, verbose=0)\n",
    "\n",
    "# Fit the grid search to the data\n",
    "grid_search.fit(x_train, y_train)\n",
    "\n",
    "# Best parameter set found:\n",
    "print(\"Best parameters found for the SVM classifier: \", grid_search.best_params_)\n",
    "\n",
    "# Best estimator:\n",
    "best_classifier = grid_search.best_estimator_\n",
    "\n",
    "# Load the original image\n",
    "image = Image.open('data2.png')\n",
    "width, height = image.size\n",
    "\n",
    "# Function to generate all pixel coordinates for the image\n",
    "all_pixels = generate_pixel_coordinates()  # This function was assumed to be defined earlier\n",
    "\n",
    "# Predict the color for each pixel using the best classifier\n",
    "predicted_colors = best_classifier.predict(all_pixels)\n",
    "\n",
    "# Function to save data was assumed defined earlier\n",
    "save_data(all_pixels, predicted_colors, 'optimized_svm_predicted_image2.png')\n",
    "\n",
    "print(\"The predicted image has been saved as 'optimized_svm_predicted_image2.png'.\")"
   ]
  },
  {
   "cell_type": "markdown",
   "metadata": {},
   "source": [
    "<div style=\"text-align: center;\">\n",
    "    <img src=\"optimized_svm_predicted_image2.png\" alt=\"This image is not available\" style=\"height: 300px; display: block; margin: 0 auto;\">\n",
    "    <i>optimized_svm_predicted_image2.png</i>\n",
    "</div>"
   ]
  },
  {
   "cell_type": "markdown",
   "metadata": {},
   "source": [
    "# Random Forest Classifier - Optimizing Hyperparameters"
   ]
  },
  {
   "cell_type": "code",
   "execution_count": 67,
   "metadata": {},
   "outputs": [
    {
     "name": "stdout",
     "output_type": "stream",
     "text": [
      "Best parameters found for the random forest classifier:  {'max_depth': None, 'min_samples_leaf': 1, 'min_samples_split': 2, 'n_estimators': 100}\n",
      "The predicted image has been saved as 'optimized_rf_predicted_image2.png'.\n"
     ]
    }
   ],
   "source": [
    "from sklearn.ensemble import RandomForestClassifier\n",
    "from sklearn.model_selection import GridSearchCV\n",
    "\n",
    "# Define the parameter grid\n",
    "param_grid_rf_too_much = {\n",
    "    'n_estimators': [100, 200, 300],  # Number of trees\n",
    "    'max_depth': [None, 10, 20, 30],  # Maximum depth of each tree\n",
    "    'min_samples_split': [2, 5, 10],  # Minimum number of samples required to split an internal node\n",
    "    'min_samples_leaf': [1, 2, 4]     # Minimum number of samples required to be at a leaf node\n",
    "}\n",
    "\n",
    "param_grid_rf = {\n",
    "    'n_estimators': [100, 200],  # Reduced from [100, 200, 300]\n",
    "    'max_depth': [None, 20],  # Simplified choices\n",
    "    'min_samples_split': [2, 10],  # Only extremes\n",
    "    'min_samples_leaf': [1, 4]  # Only extremes\n",
    "}\n",
    "\n",
    "# Initialize the RandomForest classifier\n",
    "rf = RandomForestClassifier(random_state=42)\n",
    "\n",
    "# Initialize the GridSearchCV object\n",
    "grid_search_rf = GridSearchCV(estimator=rf, param_grid=param_grid_rf, cv=5, verbose=0)\n",
    "\n",
    "# Fit the grid search to the data\n",
    "grid_search_rf.fit(x_train, y_train)\n",
    "\n",
    "# Best parameter set found\n",
    "print(\"Best parameters found for the random forest classifier: \", grid_search_rf.best_params_)\n",
    "\n",
    "# Best estimator\n",
    "best_rf_classifier = grid_search_rf.best_estimator_\n",
    "\n",
    "# Load the original image\n",
    "image = Image.open('data2.png')\n",
    "width, height = image.size\n",
    "\n",
    "# Assuming functions to generate pixel coordinates and save data exist\n",
    "all_pixels = generate_pixel_coordinates()  # Assume this function exists\n",
    "\n",
    "# Predict the color for each pixel using the best classifier\n",
    "predicted_colors_rf = best_rf_classifier.predict(all_pixels)\n",
    "\n",
    "# Save or display the image from predicted colors\n",
    "save_data(all_pixels, predicted_colors_rf, 'optimized_rf_predicted_image2.png')  # Assume this function exists\n",
    "\n",
    "print(\"The predicted image has been saved as 'optimized_rf_predicted_image2.png'.\")"
   ]
  },
  {
   "cell_type": "markdown",
   "metadata": {},
   "source": [
    "<div style=\"text-align: center;\">\n",
    "    <img src=\"optimized_rf_predicted_image2.png\" alt=\"This image is not available\" style=\"height: 300px; display: block; margin: 0 auto;\">\n",
    "    <i>optimized_rf_predicted_image2.png</i>\n",
    "</div>"
   ]
  },
  {
   "cell_type": "markdown",
   "metadata": {},
   "source": [
    "<strong>14.</strong>  Compare the results from multiple facets: \n",
    "<li> Compare the results obtained for linear and non-linear images with each classifier. </li>\n",
    "    <li> Compare the results obtained with different classifiers for the same image.</li>\n",
    "    <li> Try to explain the differences in the performances of various models (classifiers).</li>"
   ]
  },
  {
   "cell_type": "markdown",
   "metadata": {},
   "source": [
    "<strong>15.</strong> Conduct a sensitivity study on the selection of data (files data1 and data2) from the original images (refer to the first item in the **Detailed Description of the Requirements**), using one of the classifiers employed previously. Explanation: We assume that the pixels in your training sets are derived from a real image that you theoretically know. Adjust the selected pixels, considering the shape of the real image.\n",
    "\n",
    "Generate two additional files, data12 and data22, and employ one of the three classifiers to predict the color for all pixels in the first and second images. Compare the results obtained (using data1 versus data12 and data2 versus data22). Provide an explanation for the observed results.\"\n",
    "\n"
   ]
  },
  {
   "cell_type": "markdown",
   "metadata": {},
   "source": [
    " <strong>16.</strong> Conduct a study on the influence of the size of training and testing sets for one of the classifiers of your choice. "
   ]
  },
  {
   "cell_type": "markdown",
   "metadata": {},
   "source": [
    "<strong>17.</strong> For the evaluation, you must complete all the steps outlined above, report and compare the results, provide a brief presentation of your chosen classifiers directly in Jupyter Notebook, and be prepared to answer questions related to the presentation. \n",
    "\n",
    "<p>For a better understanding of how the results should be represented, refer to Fig. 2.</p>\n",
    "<img src=\"Example.PNG\" width=\"1024\" height=\"1024\"/>\n",
    "<center><strong>Figure 3</strong>"
   ]
  }
 ],
 "metadata": {
  "anaconda-cloud": {},
  "kernelspec": {
   "display_name": "Python 3 (ipykernel)",
   "language": "python",
   "name": "python3"
  },
  "language_info": {
   "codemirror_mode": {
    "name": "ipython",
    "version": 3
   },
   "file_extension": ".py",
   "mimetype": "text/x-python",
   "name": "python",
   "nbconvert_exporter": "python",
   "pygments_lexer": "ipython3",
   "version": "3.11.5"
  }
 },
 "nbformat": 4,
 "nbformat_minor": 4
}
